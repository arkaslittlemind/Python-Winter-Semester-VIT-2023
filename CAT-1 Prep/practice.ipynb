{
 "cells": [
  {
   "cell_type": "code",
   "execution_count": 2,
   "metadata": {},
   "outputs": [
    {
     "name": "stdout",
     "output_type": "stream",
     "text": [
      "The sum of the two numbers is:  58\n"
     ]
    }
   ],
   "source": [
    "def add2Numbers(a,b):\n",
    "    return a + b\n",
    "\n",
    "\n",
    "a = int (input(\"Enter a number: \"))\n",
    "b = int (input(\"Enter another number: \"))\n",
    "print(\"The sum of the two numbers is: \", add2Numbers(a,b))"
   ]
  },
  {
   "cell_type": "code",
   "execution_count": 4,
   "metadata": {},
   "outputs": [
    {
     "name": "stdout",
     "output_type": "stream",
     "text": [
      "Shristi loves \n",
      " Arka\n",
      "\n",
      "But Arka loves \n",
      " Shristi more\n"
     ]
    }
   ],
   "source": [
    "print(\"Shristi loves Arka\")\n",
    "print()\n",
    "print(\"But Arka loves Shristi more\")"
   ]
  },
  {
   "cell_type": "code",
   "execution_count": 7,
   "metadata": {},
   "outputs": [
    {
     "name": "stdout",
     "output_type": "stream",
     "text": [
      "Arka Shristi Debarpan Anik Aritra\n"
     ]
    }
   ],
   "source": [
    "print(\"Arka\", \"Shristi\", \"Debarpan\", \"Anik\", end = \" \")\n",
    "print(\"Aritra\")"
   ]
  },
  {
   "cell_type": "code",
   "execution_count": 8,
   "metadata": {},
   "outputs": [
    {
     "name": "stdout",
     "output_type": "stream",
     "text": [
      "My_name_is*"
     ]
    }
   ],
   "source": [
    "print(\"My\", \"name\", \"is\", sep =\"_\", end =\"*\")"
   ]
  },
  {
   "cell_type": "code",
   "execution_count": 9,
   "metadata": {},
   "outputs": [
    {
     "name": "stdout",
     "output_type": "stream",
     "text": [
      "Monty*Python.\n"
     ]
    }
   ],
   "source": [
    "print(\"Monty\", \"Python.\", sep =\"*\",end = \"\\n\")"
   ]
  },
  {
   "cell_type": "code",
   "execution_count": 13,
   "metadata": {},
   "outputs": [
    {
     "name": "stdout",
     "output_type": "stream",
     "text": [
      "<class 'int'>\n",
      "<class 'float'>\n",
      "<class 'complex'>\n"
     ]
    }
   ],
   "source": [
    "x = 10\n",
    "y = 10.55\n",
    "z = 1 + 2j\n",
    "\n",
    "print(type(x))\n",
    "print(type(y))\n",
    "print(type(z))"
   ]
  },
  {
   "cell_type": "code",
   "execution_count": 14,
   "metadata": {},
   "outputs": [
    {
     "name": "stdout",
     "output_type": "stream",
     "text": [
      "1050.0\n",
      "<class 'float'>\n"
     ]
    }
   ],
   "source": [
    "x = 10.5e2\n",
    "print(x)\n",
    "print(type(x))"
   ]
  },
  {
   "cell_type": "code",
   "execution_count": 15,
   "metadata": {},
   "outputs": [
    {
     "name": "stdout",
     "output_type": "stream",
     "text": [
      "Sum is 30\n",
      "Multiplication is 200\n",
      "\"Sum is {a + b} \n",
      " Multiplication is {a * b}\"\n"
     ]
    }
   ],
   "source": [
    "a = 10\n",
    "b = 20\n",
    "\n",
    "print(\"Sum is\", c := a + b)\n",
    "print(\"Multiplication is\", c := a * b)\n",
    "\n",
    "print('\"Sum is {a + b} \\n Multiplication is {a * b}\"')"
   ]
  },
  {
   "cell_type": "code",
   "execution_count": 18,
   "metadata": {},
   "outputs": [
    {
     "name": "stdout",
     "output_type": "stream",
     "text": [
      "Tello\n"
     ]
    }
   ],
   "source": [
    "x = 5\n",
    "x = 10\n",
    "\n",
    "if(x < 10 and x < 10):\n",
    "    print(\"Hello\")\n",
    "    \n",
    "print(\"Tello\")"
   ]
  },
  {
   "cell_type": "code",
   "execution_count": 19,
   "metadata": {},
   "outputs": [
    {
     "name": "stdout",
     "output_type": "stream",
     "text": [
      "The fractional part is:  0.43786789000000015\n"
     ]
    }
   ],
   "source": [
    "a = float(input(\"Enter a number: \"))\n",
    "ans = a % 1\n",
    "\n",
    "print(\"The fractional part is: \", ans)"
   ]
  },
  {
   "attachments": {},
   "cell_type": "markdown",
   "metadata": {},
   "source": [
    "Membership Operators"
   ]
  },
  {
   "cell_type": "code",
   "execution_count": 21,
   "metadata": {},
   "outputs": [
    {
     "name": "stdout",
     "output_type": "stream",
     "text": [
      "True\n"
     ]
    }
   ],
   "source": [
    "string1 = \"Hello\"\n",
    "string2 = 'e'\n",
    "\n",
    "print(string2 in string1)"
   ]
  },
  {
   "attachments": {},
   "cell_type": "markdown",
   "metadata": {},
   "source": [
    "Nested if-else statements"
   ]
  },
  {
   "cell_type": "code",
   "execution_count": 22,
   "metadata": {},
   "outputs": [
    {
     "name": "stdout",
     "output_type": "stream",
     "text": [
      "Second number is greater\n"
     ]
    }
   ],
   "source": [
    "num1 = int(input(\"Enter first number: \"))\n",
    "num2 = int(input(\"Enter second number: \"))\n",
    "\n",
    "if(num1 >= num2):\n",
    "    if(num1 == num2):\n",
    "        print(\"Both numbers are equal\")\n",
    "    else:\n",
    "        print(\"First number is greater\")\n",
    "\n",
    "else:\n",
    "    print(\"Second number is greater\")\n",
    "\n"
   ]
  },
  {
   "cell_type": "code",
   "execution_count": 23,
   "metadata": {},
   "outputs": [
    {
     "name": "stdout",
     "output_type": "stream",
     "text": [
      "M\n",
      "C\n",
      "A\n"
     ]
    }
   ],
   "source": [
    "for x in \"MCA\":\n",
    "    print(x)"
   ]
  },
  {
   "cell_type": "code",
   "execution_count": 24,
   "metadata": {},
   "outputs": [
    {
     "name": "stdout",
     "output_type": "stream",
     "text": [
      "vit\n",
      "mca\n",
      "first year\n"
     ]
    }
   ],
   "source": [
    "y = [\"vit\", \"mca\", \"first year\"]\n",
    "for x in y:\n",
    "    print(x)"
   ]
  },
  {
   "cell_type": "code",
   "execution_count": 25,
   "metadata": {},
   "outputs": [
    {
     "name": "stdout",
     "output_type": "stream",
     "text": [
      "Incrementing by 3:  1\n",
      "Incrementing by 3:  4\n",
      "Incrementing by 3:  7\n"
     ]
    }
   ],
   "source": [
    "for n in range(1, 10, 3):\n",
    "    print(\"Incrementing by 3: \", n)"
   ]
  },
  {
   "cell_type": "code",
   "execution_count": 26,
   "metadata": {},
   "outputs": [
    {
     "name": "stdout",
     "output_type": "stream",
     "text": [
      "\t 1 \t 2 \t 3 \t 4 \t 5 \t 6 \t 7 \t 8 \t 9 "
     ]
    }
   ],
   "source": [
    "for i in range(1, 10):\n",
    "    print(\"\\t\", i, end = \" \")"
   ]
  },
  {
   "cell_type": "code",
   "execution_count": 29,
   "metadata": {},
   "outputs": [
    {
     "name": "stdout",
     "output_type": "stream",
     "text": [
      "God God God God God "
     ]
    }
   ],
   "source": [
    "count = 0\n",
    "while(count < 5):\n",
    "    count += 1\n",
    "    print(\"God\", end = \" \")"
   ]
  },
  {
   "cell_type": "code",
   "execution_count": null,
   "metadata": {},
   "outputs": [],
   "source": []
  }
 ],
 "metadata": {
  "kernelspec": {
   "display_name": "Python 3",
   "language": "python",
   "name": "python3"
  },
  "language_info": {
   "codemirror_mode": {
    "name": "ipython",
    "version": 3
   },
   "file_extension": ".py",
   "mimetype": "text/x-python",
   "name": "python",
   "nbconvert_exporter": "python",
   "pygments_lexer": "ipython3",
   "version": "3.9.13"
  },
  "orig_nbformat": 4
 },
 "nbformat": 4,
 "nbformat_minor": 2
}
