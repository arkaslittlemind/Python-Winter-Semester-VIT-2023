{
 "cells": [
  {
   "cell_type": "code",
   "execution_count": 2,
   "metadata": {},
   "outputs": [
    {
     "name": "stdout",
     "output_type": "stream",
     "text": [
      "The sum of the two numbers is:  58\n"
     ]
    }
   ],
   "source": [
    "def add2Numbers(a,b):\n",
    "    return a + b\n",
    "\n",
    "\n",
    "a = int (input(\"Enter a number: \"))\n",
    "b = int (input(\"Enter another number: \"))\n",
    "print(\"The sum of the two numbers is: \", add2Numbers(a,b))"
   ]
  },
  {
   "cell_type": "code",
   "execution_count": 4,
   "metadata": {},
   "outputs": [
    {
     "name": "stdout",
     "output_type": "stream",
     "text": [
      "Shristi loves \n",
      " Arka\n",
      "\n",
      "But Arka loves \n",
      " Shristi more\n"
     ]
    }
   ],
   "source": [
    "print(\"Shristi loves Arka\")\n",
    "print()\n",
    "print(\"But Arka loves Shristi more\")"
   ]
  },
  {
   "cell_type": "code",
   "execution_count": 7,
   "metadata": {},
   "outputs": [
    {
     "name": "stdout",
     "output_type": "stream",
     "text": [
      "Arka Shristi Debarpan Anik Aritra\n"
     ]
    }
   ],
   "source": [
    "print(\"Arka\", \"Shristi\", \"Debarpan\", \"Anik\", end = \" \")\n",
    "print(\"Aritra\")"
   ]
  },
  {
   "cell_type": "code",
   "execution_count": 8,
   "metadata": {},
   "outputs": [
    {
     "name": "stdout",
     "output_type": "stream",
     "text": [
      "My_name_is*"
     ]
    }
   ],
   "source": [
    "print(\"My\", \"name\", \"is\", sep =\"_\", end =\"*\")"
   ]
  },
  {
   "cell_type": "code",
   "execution_count": 9,
   "metadata": {},
   "outputs": [
    {
     "name": "stdout",
     "output_type": "stream",
     "text": [
      "Monty*Python.\n"
     ]
    }
   ],
   "source": [
    "print(\"Monty\", \"Python.\", sep =\"*\",end = \"\\n\")"
   ]
  },
  {
   "cell_type": "code",
   "execution_count": null,
   "metadata": {},
   "outputs": [],
   "source": []
  }
 ],
 "metadata": {
  "kernelspec": {
   "display_name": "Python 3",
   "language": "python",
   "name": "python3"
  },
  "language_info": {
   "codemirror_mode": {
    "name": "ipython",
    "version": 3
   },
   "file_extension": ".py",
   "mimetype": "text/x-python",
   "name": "python",
   "nbconvert_exporter": "python",
   "pygments_lexer": "ipython3",
   "version": "3.9.13"
  },
  "orig_nbformat": 4
 },
 "nbformat": 4,
 "nbformat_minor": 2
}
