{
 "cells": [
  {
   "attachments": {},
   "cell_type": "markdown",
   "metadata": {},
   "source": [
    "Take the start time and duration of event as user input in HH:MM format to find the total duration of the event."
   ]
  },
  {
   "cell_type": "code",
   "execution_count": 2,
   "metadata": {},
   "outputs": [
    {
     "name": "stdout",
     "output_type": "stream",
     "text": [
      "13:16\n"
     ]
    }
   ],
   "source": [
    "hour = int(input(\"Starting time (hours): \"))\n",
    "mins = int(input(\"Starting time (minutes): \"))\n",
    "duration = int(input(\"Event duration (minutes): \"))\n",
    "hour = (hour + duration//60 + (mins+ duration%60)//60)%24\n",
    "mins = (mins+ duration%60)%60\n",
    "print(hour,\":\",mins,sep=\"\")\n"
   ]
  },
  {
   "attachments": {},
   "cell_type": "markdown",
   "metadata": {},
   "source": [
    "Program to print a hollow square pattern."
   ]
  },
  {
   "cell_type": "code",
   "execution_count": 9,
   "metadata": {},
   "outputs": [
    {
     "name": "stdout",
     "output_type": "stream",
     "text": [
      "*****\n",
      "*   *\n",
      "*   *\n",
      "*   *\n",
      "*****\n"
     ]
    }
   ],
   "source": [
    "print(\"*\" * 5)\n",
    "print(\"*\" \"   \" \"*\")\n",
    "print(\"*\" \"   \" \"*\")\n",
    "print(\"*\" \"   \" \"*\")\n",
    "print(\"*\" * 5)"
   ]
  },
  {
   "cell_type": "code",
   "execution_count": 10,
   "metadata": {},
   "outputs": [
    {
     "name": "stdout",
     "output_type": "stream",
     "text": [
      "Hollow square pattern is: \n",
      "*****\n",
      "*   *\n",
      "*   *\n",
      "*   *\n",
      "*****\n"
     ]
    }
   ],
   "source": [
    "row = int(input(\"Enter number of rows: \"))\n",
    "print(\"Hollow square pattern is: \")\n",
    "for i in range(1, row +1):\n",
    "    for j in range(1, row +1):\n",
    "        if (i ==1 or i == row or j ==1 or j == row):\n",
    "            print(\"*\", end =\"\")\n",
    "        else:\n",
    "            print(\" \", end =\"\")\n",
    "    print()"
   ]
  },
  {
   "attachments": {},
   "cell_type": "markdown",
   "metadata": {},
   "source": [
    "Code a simple guessing game where the computer will generate a random number between 1 to 10, and the user has to guess it in 5 attempts.\n",
    "\n",
    "Based on the user's guess computer will give various hints if the number is high or low. When the user guess matches the number computer will print the answer along with the number of attempts."
   ]
  },
  {
   "cell_type": "code",
   "execution_count": 1,
   "metadata": {},
   "outputs": [
    {
     "name": "stdout",
     "output_type": "stream",
     "text": [
      "Welcome to the Guessing Game!\n",
      "You have 5 chances to guess the number between 1 and 100\n",
      "HIGHER 4 guesses left\n",
      "HIGHER 3 guesses left\n",
      "LOWER 2 guesses left\n",
      "LOWER 1 guesses left\n",
      "HIGHER 0 guesses left\n",
      "You have lost the game! The Secret Number was 79\n"
     ]
    }
   ],
   "source": [
    "import random\n",
    "\n",
    "secretNum = random.randint(1, 100)\n",
    "noOfGuesses = 5\n",
    "\n",
    "print(\"Welcome to the Guessing Game!\")\n",
    "print(\"You have 5 chances to guess the number between 1 and 100\")\n",
    "\n",
    "while(noOfGuesses):\n",
    "    guess = int(input(\"Enter your guess(1-100):\"))\n",
    "    if(guess == secretNum):\n",
    "        print(\"Congratulations! You guessed the number!\")\n",
    "        break\n",
    "    \n",
    "    elif(guess < secretNum):\n",
    "        print(\"HIGHER\", noOfGuesses - 1, \"guesses left\")\n",
    "        noOfGuesses -= 1\n",
    "        \n",
    "    else:\n",
    "        print(\"LOWER\", noOfGuesses - 1, \"guesses left\")\n",
    "        noOfGuesses -= 1\n",
    "        \n",
    "if(guess != secretNum):\n",
    "    print(\"You have lost the game! The Secret Number was\", secretNum)"
   ]
  }
 ],
 "metadata": {
  "kernelspec": {
   "display_name": "Python 3",
   "language": "python",
   "name": "python3"
  },
  "language_info": {
   "codemirror_mode": {
    "name": "ipython",
    "version": 3
   },
   "file_extension": ".py",
   "mimetype": "text/x-python",
   "name": "python",
   "nbconvert_exporter": "python",
   "pygments_lexer": "ipython3",
   "version": "3.9.13"
  },
  "orig_nbformat": 4,
  "vscode": {
   "interpreter": {
    "hash": "a338041c4979acb7c6fca6b7e4ea2889754396214852a2ef4a05e142738b71ad"
   }
  }
 },
 "nbformat": 4,
 "nbformat_minor": 2
}
