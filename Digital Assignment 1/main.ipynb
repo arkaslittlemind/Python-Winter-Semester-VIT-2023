{
 "cells": [
  {
   "attachments": {},
   "cell_type": "markdown",
   "metadata": {},
   "source": [
    "Module 3 - Lists, Tuples, Dictionaries, and Sets"
   ]
  },
  {
   "cell_type": "code",
   "execution_count": 1,
   "metadata": {},
   "outputs": [
    {
     "name": "stdout",
     "output_type": "stream",
     "text": [
      "['o', 'g', 'r']\n",
      "['a', 'm', 'i', 'z']\n",
      "['p', 'r', 'o', 'g', 'r', 'a', 'm', 'i', 'z']\n"
     ]
    }
   ],
   "source": [
    "# List slicing in Python\n",
    "\n",
    "my_list = ['p','r','o','g','r','a','m','i','z']\n",
    "\n",
    "# items from index 2 to index 4\n",
    "print(my_list[2:5])\n",
    "\n",
    "# items from index 5 to end\n",
    "print(my_list[5:])\n",
    "\n",
    "# items beginning to end\n",
    "print(my_list[:])"
   ]
  },
  {
   "cell_type": "code",
   "execution_count": 2,
   "metadata": {},
   "outputs": [
    {
     "name": "stdout",
     "output_type": "stream",
     "text": [
      "Before Append: [21, 34, 54, 12]\n",
      "After Append: [21, 34, 54, 12, 32]\n"
     ]
    }
   ],
   "source": [
    "numbers = [21, 34, 54, 12]\n",
    "\n",
    "print(\"Before Append:\", numbers)\n",
    "\n",
    "# using append method\n",
    "numbers.append(32)\n",
    "\n",
    "print(\"After Append:\", numbers)"
   ]
  },
  {
   "cell_type": "code",
   "execution_count": 3,
   "metadata": {},
   "outputs": [
    {
     "name": "stdout",
     "output_type": "stream",
     "text": [
      "()\n",
      "(1, 2, 3)\n",
      "(1, 'Hello', 3.4)\n",
      "('mouse', [8, 4, 6], (1, 2, 3))\n"
     ]
    }
   ],
   "source": [
    "# Different types of tuples\n",
    "\n",
    "# Empty tuple\n",
    "my_tuple = ()\n",
    "print(my_tuple)\n",
    "\n",
    "# Tuple having integers\n",
    "my_tuple = (1, 2, 3)\n",
    "print(my_tuple)\n",
    "\n",
    "# tuple with mixed datatypes\n",
    "my_tuple = (1, \"Hello\", 3.4)\n",
    "print(my_tuple)\n",
    "\n",
    "# nested tuple\n",
    "my_tuple = (\"mouse\", [8, 4, 6], (1, 2, 3))\n",
    "print(my_tuple)"
   ]
  },
  {
   "cell_type": "code",
   "execution_count": 4,
   "metadata": {},
   "outputs": [
    {
     "name": "stdout",
     "output_type": "stream",
     "text": [
      "Initial Dictionary:  {'Nepal': 'Kathmandu', 'England': 'London'}\n",
      "Updated Dictionary:  {'Nepal': 'Kathmandu', 'England': 'London', 'Japan': 'Tokyo'}\n"
     ]
    }
   ],
   "source": [
    "capital_city = {\"Nepal\": \"Kathmandu\", \"England\": \"London\"}\n",
    "print(\"Initial Dictionary: \",capital_city)\n",
    "\n",
    "capital_city[\"Japan\"] = \"Tokyo\"\n",
    "\n",
    "print(\"Updated Dictionary: \",capital_city)"
   ]
  },
  {
   "cell_type": "code",
   "execution_count": 5,
   "metadata": {},
   "outputs": [
    {
     "name": "stdout",
     "output_type": "stream",
     "text": [
      "Initial Dictionary:  {111: 'Eric', 112: 'Kyle', 113: 'Butters'}\n",
      "Updated Dictionary:  {111: 'Eric', 112: 'Stan', 113: 'Butters'}\n"
     ]
    }
   ],
   "source": [
    "student_id = {111: \"Eric\", 112: \"Kyle\", 113: \"Butters\"}\n",
    "print(\"Initial Dictionary: \", student_id)\n",
    "\n",
    "student_id[112] = \"Stan\"\n",
    "\n",
    "print(\"Updated Dictionary: \", student_id)"
   ]
  },
  {
   "attachments": {},
   "cell_type": "markdown",
   "metadata": {},
   "source": [
    "Module 4 - Strings & Regular Expressions"
   ]
  },
  {
   "cell_type": "code",
   "execution_count": 8,
   "metadata": {},
   "outputs": [
    {
     "name": "stdout",
     "output_type": "stream",
     "text": [
      "False\n",
      "True\n"
     ]
    }
   ],
   "source": [
    "str1 = \"Hello, world!\"\n",
    "str2 = \"I love Python.\"\n",
    "str3 = \"Hello, world!\"\n",
    "\n",
    "# compare str1 and str2\n",
    "print(str1 == str2)\n",
    "\n",
    "# compare str1 and str3\n",
    "print(str1 == str3)"
   ]
  },
  {
   "cell_type": "code",
   "execution_count": 7,
   "metadata": {},
   "outputs": [
    {
     "name": "stdout",
     "output_type": "stream",
     "text": [
      "Hello, Jack\n"
     ]
    }
   ],
   "source": [
    "greet = \"Hello, \"\n",
    "name = \"Jack\"\n",
    "\n",
    "# using + operator\n",
    "result = greet + name\n",
    "print(result)\n",
    "\n",
    "# Output: Hello, Jack"
   ]
  },
  {
   "cell_type": "code",
   "execution_count": 6,
   "metadata": {},
   "outputs": [
    {
     "name": "stdout",
     "output_type": "stream",
     "text": [
      "H\n",
      "e\n",
      "l\n",
      "l\n",
      "o\n"
     ]
    }
   ],
   "source": [
    "greet = 'Hello'\n",
    "\n",
    "# iterating through greet string\n",
    "for letter in greet:\n",
    "    print(letter)"
   ]
  },
  {
   "cell_type": "code",
   "execution_count": 10,
   "metadata": {},
   "outputs": [],
   "source": [
    "import re\n",
    "\n",
    "txt = \"The rain in Spain\"\n",
    "x = re.search(\"^The.*Spain$\", txt) "
   ]
  },
  {
   "cell_type": "code",
   "execution_count": 11,
   "metadata": {},
   "outputs": [
    {
     "name": "stdout",
     "output_type": "stream",
     "text": [
      "['ai', 'ai']\n"
     ]
    }
   ],
   "source": [
    "import re\n",
    "\n",
    "txt = \"The rain in Spain\"\n",
    "x = re.findall(\"ai\", txt)\n",
    "print(x) "
   ]
  },
  {
   "attachments": {},
   "cell_type": "markdown",
   "metadata": {},
   "source": [
    "Module 5 - Functions, Exceptions & Packages"
   ]
  },
  {
   "cell_type": "code",
   "execution_count": 12,
   "metadata": {},
   "outputs": [
    {
     "name": "stdout",
     "output_type": "stream",
     "text": [
      "Emil Refsnes\n",
      "Tobias Refsnes\n",
      "Linus Refsnes\n"
     ]
    }
   ],
   "source": [
    "def my_function(fname):\n",
    "      print(fname + \" Refsnes\")\n",
    "\n",
    "my_function(\"Emil\")\n",
    "my_function(\"Tobias\")\n",
    "my_function(\"Linus\") "
   ]
  },
  {
   "cell_type": "code",
   "execution_count": null,
   "metadata": {},
   "outputs": [],
   "source": [
    "def myfunc(n):\n",
    "      return lambda a : a * n\n",
    "\n",
    "mydoubler = myfunc(2)\n",
    "\n",
    "print(mydoubler(11))"
   ]
  },
  {
   "cell_type": "code",
   "execution_count": null,
   "metadata": {},
   "outputs": [],
   "source": [
    "def myfunc(n):\n",
    "      return lambda a : a * n\n",
    "\n",
    "mytripler = myfunc(3)\n",
    "\n",
    "print(mytripler(11))"
   ]
  },
  {
   "cell_type": "code",
   "execution_count": 13,
   "metadata": {},
   "outputs": [
    {
     "name": "stdout",
     "output_type": "stream",
     "text": [
      "['ai', 'ai']\n"
     ]
    }
   ],
   "source": [
    "try:\n",
    "  print(x)\n",
    "except NameError:\n",
    "  print(\"Variable x is not defined\")\n",
    "except:\n",
    "  print(\"Something else went wrong\")"
   ]
  },
  {
   "cell_type": "code",
   "execution_count": null,
   "metadata": {},
   "outputs": [],
   "source": [
    "try:\n",
    "  print(\"Hello\")\n",
    "except:\n",
    "  print(\"Something went wrong\")\n",
    "else:\n",
    "  print(\"Nothing went wrong\") "
   ]
  },
  {
   "attachments": {},
   "cell_type": "markdown",
   "metadata": {},
   "source": [
    "Module 6 - Data Visualization using Python"
   ]
  }
 ],
 "metadata": {
  "kernelspec": {
   "display_name": "Python 3",
   "language": "python",
   "name": "python3"
  },
  "language_info": {
   "codemirror_mode": {
    "name": "ipython",
    "version": 3
   },
   "file_extension": ".py",
   "mimetype": "text/x-python",
   "name": "python",
   "nbconvert_exporter": "python",
   "pygments_lexer": "ipython3",
   "version": "3.10.5"
  },
  "orig_nbformat": 4
 },
 "nbformat": 4,
 "nbformat_minor": 2
}
