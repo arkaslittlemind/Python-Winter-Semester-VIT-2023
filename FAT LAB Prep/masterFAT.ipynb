{
  "cells": [
    {
      "attachments": {},
      "cell_type": "markdown",
      "metadata": {
        "id": "0BMMcv3bxuQD"
      },
      "source": [
        "PATTERN QUESTIONS"
      ]
    },
    {
      "cell_type": "code",
      "execution_count": 5,
      "metadata": {
        "id": "2lwyidBxxo_H"
      },
      "outputs": [
        {
          "name": "stdout",
          "output_type": "stream",
          "text": [
            "1 \n",
            "1 2 \n",
            "1 2 3 \n",
            "1 2 3 4 \n",
            "1 2 3 4 5 \n"
          ]
        }
      ],
      "source": [
        "'''\n",
        "(Q1):\n",
        "1\n",
        "1 2\n",
        "1 2 3\n",
        "1 2 3 4\n",
        "1 2 3 4 5\n",
        "'''\n",
        "for i in range(1,6):\n",
        "    for j in range(i):\n",
        "        print(j+1,end=\" \")\n",
        "    print()\n"
      ]
    },
    {
      "cell_type": "code",
      "execution_count": 2,
      "metadata": {
        "id": "b1QPugVmykTg"
      },
      "outputs": [
        {
          "name": "stdout",
          "output_type": "stream",
          "text": [
            "5 4 3 2 1 \n",
            "4 3 2 1 \n",
            "3 2 1 \n",
            "2 1 \n",
            "1 \n"
          ]
        }
      ],
      "source": [
        "'''\n",
        "(Q2):\n",
        "5 4 3 2 1\n",
        "4 3 2 1\n",
        "3 2 1\n",
        "2 1\n",
        "1\n",
        "'''\n",
        "for i in range(5,0,-1):\n",
        "    for j in range(i,0,-1):\n",
        "        print(j,end=\" \")\n",
        "    print()"
      ]
    },
    {
      "cell_type": "code",
      "execution_count": 3,
      "metadata": {
        "id": "-SxB1-2NyqwN"
      },
      "outputs": [
        {
          "name": "stdout",
          "output_type": "stream",
          "text": [
            "\n",
            "* \n",
            "* * \n",
            "* * * \n",
            "* * * * \n",
            "* * * * * \n",
            "* * * * \n",
            "* * * \n",
            "* * \n",
            "* \n"
          ]
        }
      ],
      "source": [
        "'''\n",
        "(Q3):\n",
        "*\n",
        "* *\n",
        "* * *\n",
        "* * * *\n",
        "* * * * *\n",
        "* * * *\n",
        "* * *\n",
        "* *\n",
        "*\n",
        "'''\n",
        "for i in range(6):\n",
        "    for j in range(i):\n",
        "        print(\"*\",end=\" \")\n",
        "    print()\n",
        "for i in range(4,0,-1):\n",
        "    for j in range(i):\n",
        "        print(\"*\",end=\" \")\n",
        "    print()"
      ]
    },
    {
      "cell_type": "code",
      "execution_count": 4,
      "metadata": {
        "id": "9LrOTrDhy1vI"
      },
      "outputs": [
        {
          "name": "stdout",
          "output_type": "stream",
          "text": [
            "    *\n",
            "   * *\n",
            "  *   *\n",
            " *     *\n",
            "***   ***\n",
            "  *   *\n",
            "  *   *\n",
            "  *****\n"
          ]
        }
      ],
      "source": [
        "'''\n",
        "(Q4):\n",
        "    *\n",
        "   * *\n",
        "  *   *\n",
        " *     *\n",
        "***   ***\n",
        "  *   *\n",
        "  *   *\n",
        "  *****\n",
        "'''\n",
        "print(\"    *\\n   * *\\n  *   *\\n *     *\\n***   ***\")\n",
        "print(\"  *   *\\n  *   *\\n  *****\")"
      ]
    },
    {
      "cell_type": "code",
      "execution_count": 5,
      "metadata": {
        "id": "kNAmVWKlzAWq"
      },
      "outputs": [
        {
          "name": "stdout",
          "output_type": "stream",
          "text": [
            "+----------+\n",
            "|          |\n",
            "|          |\n",
            "|          |\n",
            "|          |\n",
            "|          |\n",
            "+----------+\n"
          ]
        }
      ],
      "source": [
        "'''\n",
        "(Q5):\n",
        "+----------+\n",
        "|          |\n",
        "|          |\n",
        "|          |\n",
        "|          |\n",
        "|          |\n",
        "+----------+\n",
        "'''\n",
        "print(\"+\" + 10 * \"-\" + \"+\")\n",
        "print((\"|\" + \" \" * 10 + \"|\\n\") * 5,end=\"\")\n",
        "print(\"+\" + 10 * \"-\" + \"+\")"
      ]
    },
    {
      "cell_type": "code",
      "execution_count": 6,
      "metadata": {
        "id": "NulaIXrMzG9i"
      },
      "outputs": [
        {
          "name": "stdout",
          "output_type": "stream",
          "text": [
            "* * * * * \n",
            "*       * \n",
            "*       * \n",
            "*       * \n",
            "* * * * * \n"
          ]
        }
      ],
      "source": [
        "'''\n",
        "(Q6): Hollow Square\n",
        "* * * * *\n",
        "*       *\n",
        "*       *\n",
        "*       *\n",
        "* * * * *\n",
        "'''\n",
        "for i in range(5):\n",
        "    for j in range(5):\n",
        "        if i == 0 or i == 4 or j == 0 or j == 4:\n",
        "            print(\"*\", end=\" \")\n",
        "        else:\n",
        "            print(\" \", end=\" \")\n",
        "    print()"
      ]
    },
    {
      "cell_type": "code",
      "execution_count": 7,
      "metadata": {
        "id": "wSpTYV-DzL6F"
      },
      "outputs": [
        {
          "name": "stdout",
          "output_type": "stream",
          "text": [
            "$ $ $ $ $ $ $ $ $ $ \n",
            "\n",
            "$                 $ \n",
            "\n",
            "$                 $ \n",
            "\n",
            "$                 $ \n",
            "\n",
            "$ $ $ $ $ $ $ $ $ $ \n",
            "\n"
          ]
        }
      ],
      "source": [
        "'''\n",
        "(Q7): Using Function\n",
        "$ $ $ $ $ $ $ $ $ $ \n",
        "\n",
        "$                 $ \n",
        "\n",
        "$                 $ \n",
        "\n",
        "$                 $ \n",
        "\n",
        "$ $ $ $ $ $ $ $ $ $ \n",
        "'''\n",
        "def pattern(s,w,h):\n",
        "    for i in range(h):\n",
        "        for j in range(w):\n",
        "            if(i==0 or j==0 or i==h-1 or j==w-1):\n",
        "                print(s, end=\" \")\n",
        "            else:\n",
        "                print(\" \",end=\" \")\n",
        "        print(\"\\n\")\n",
        "pattern('$',10,5)"
      ]
    },
    {
      "cell_type": "code",
      "execution_count": 8,
      "metadata": {
        "id": "Bg3zKzaWzS-9"
      },
      "outputs": [
        {
          "name": "stdout",
          "output_type": "stream",
          "text": [
            "        * \n",
            "      * * \n",
            "    * * * \n",
            "  * * * * \n",
            "* * * * * \n"
          ]
        }
      ],
      "source": [
        "'''\n",
        "(Q8):\n",
        "        * \n",
        "      * * \n",
        "    * * * \n",
        "  * * * * \n",
        "* * * * * \n",
        "'''\n",
        "k=2*5-2     #for space\n",
        "for i in range(5):\n",
        "    for j in range(k):\n",
        "        print(end=\" \")\n",
        "    k-=2    #decrease 2 space\n",
        "    for j in range(i+1):\n",
        "        print(\"* \",end=\"\")\n",
        "    print()"
      ]
    },
    {
      "attachments": {},
      "cell_type": "markdown",
      "metadata": {
        "id": "SlxQC3I3zfef"
      },
      "source": [
        "STRINGS"
      ]
    },
    {
      "cell_type": "code",
      "execution_count": 9,
      "metadata": {
        "id": "MuCMIE_6zXjB"
      },
      "outputs": [
        {
          "name": "stdout",
          "output_type": "stream",
          "text": [
            "IndiaUSAEngland  and  EnglandUSAIndia s2 are not rotations of each other.\n"
          ]
        }
      ],
      "source": [
        "'''\n",
        "(1) Write a program to check if two given String s1 \n",
        "and s2 are rotations of another. \n",
        "For example if s1 = \"IndiaUSAEngland\" \n",
        "and s2= \"USAEnglandIndia\" then your program should return true \n",
        "but if s2=\"IndiaEnglandUSA\" then it should return false.\n",
        "'''\n",
        "def isRotation(s1, s2):\n",
        "    if len(s1) != len(s2):\n",
        "        return False\n",
        "    s = s1 + s1\n",
        "    return s2 in s\n",
        "# str1=input(\"Enter 1st string: \")\n",
        "# str2=input(\"Enter 2nd string: \")\n",
        "str1=\"IndiaUSAEngland\"\n",
        "str2=\"EnglandUSAIndia\"\n",
        "if isRotation(str1, str2):\n",
        "    print(str1,\" and \",str2,\"s2 are rotations of each other.\")\n",
        "else:\n",
        "    print(str1,\" and \",str2,\"s2 are not rotations of each other.\")\n"
      ]
    },
    {
      "cell_type": "code",
      "execution_count": 9,
      "metadata": {
        "id": "1sGNerluzpkU"
      },
      "outputs": [
        {
          "name": "stdout",
          "output_type": "stream",
          "text": [
            "The Quick Brown Fox Jumps Over The Lazy Dog \n",
            "The Quick Brown Fox Jumps Over The Lazy Dog \n",
            "The Quick Brown Fox Jumps Over The Lazy Dog\n"
          ]
        }
      ],
      "source": [
        "'''\n",
        "(2) You have a string s that contains a sentence. \n",
        "Convert the first letter of each word in the sentence to uppercase in Python?\n",
        "'''\n",
        "# Function with parameter and no return value\n",
        "def cap1(s):\n",
        "    l=s.split(' ')\n",
        "    ans=''\n",
        "    for i in l:\n",
        "        ans+=i.capitalize()+' '\n",
        "    print(ans)\n",
        "\n",
        "# Function with parameter and return value\n",
        "def cap2(s):\n",
        "    l=s.split(' ')\n",
        "    ans=''\n",
        "    for i in l:\n",
        "        ans+=i.capitalize()+' '\n",
        "    return ans\n",
        "\n",
        "# Using inbuilt function\n",
        "def cap3(s):\n",
        "    return s.title()\n",
        "\n",
        "s = 'the quick brown fox jumps over the lazy dog'\n",
        "cap1(s)\n",
        "print(cap2(s))\n",
        "print(cap3(s))"
      ]
    },
    {
      "cell_type": "code",
      "execution_count": 11,
      "metadata": {
        "id": "zgaliKEuzvPk"
      },
      "outputs": [
        {
          "name": "stdout",
          "output_type": "stream",
          "text": [
            "The word  fox  appears in  3  documents a total of  3  times.\n"
          ]
        }
      ],
      "source": [
        "'''\n",
        "(3) Suppose you are working on a text processing project for a language model that requires you to analyze a text corpus and \n",
        "extract certain information. The corpus consists of multiple documents, each of which is represented as a string. \n",
        "You need to write a Python function find_document_stats that takes two arguments: a list of strings documents representing \n",
        "the text corpus, and a string target_word representing the word you want to search for. \n",
        "The function should return a tuple (num_documents, num_occurrences) containing the number of documents in which the \n",
        "target word appears at least once, and the total number of occurrences of the target word across all documents.\n",
        "'''\n",
        "def get_document_stats(documents, target):\n",
        "    num_docs=0\n",
        "    num_occur=0\n",
        "    for doc in documents:\n",
        "        if target in doc:\n",
        "            num_docs+=1\n",
        "            num_occur+=doc.count(target)\n",
        "    return (num_docs, num_occur)\n",
        "\n",
        "documents=['The quick brown fox jumps over the lazy dog.','The lazy dog is sleeping.',\n",
        "           'The quick brown fox is hunting for food.','The fox and the dog are friends.']\n",
        "target='fox'\n",
        "num_docs,num_occur=get_document_stats(documents,target)\n",
        "print(\"The word \",target,\" appears in \",num_docs,\" documents a total of \",num_occur,\" times.\")"
      ]
    },
    {
      "cell_type": "code",
      "execution_count": 12,
      "metadata": {
        "id": "6PmWZ18Mz1uV"
      },
      "outputs": [
        {
          "name": "stdout",
          "output_type": "stream",
          "text": [
            "Original string:  Vellore Institute of Technology\n",
            "Reversed string:  erolleV etutitsnI fo ygolonhceT\n"
          ]
        }
      ],
      "source": [
        "'''\n",
        "(4) Reverse each word in a given string.\n",
        "'''\n",
        "def reverse_words(string):\n",
        "    words = string.split()\n",
        "    reversed_words = [word[::-1] for word in words]\n",
        "    reversed_string = ' '.join(reversed_words)\n",
        "    return reversed_string\n",
        "original_string = \"Vellore Institute of Technology\"\n",
        "reversed_string = reverse_words(original_string)\n",
        "\n",
        "print(\"Original string: \",original_string)\n",
        "print(\"Reversed string: \",reversed_string)"
      ]
    },
    {
      "cell_type": "code",
      "execution_count": 13,
      "metadata": {
        "id": "bICITfKBz6Uf"
      },
      "outputs": [
        {
          "name": "stdout",
          "output_type": "stream",
          "text": [
            "Output:  MCA \n"
          ]
        }
      ],
      "source": [
        "'''\n",
        "(5) Add 'MCA' to the string if it does not exist.\n",
        "'''\n",
        "def change(s):\n",
        "    ans=s.split(\" \")\n",
        "    if 'MCA' not in ans:\n",
        "        s=\"MCA \"+s\n",
        "    return s\n",
        "str1=input(\"Input: \")\n",
        "print(\"Output: \",change(str1))"
      ]
    },
    {
      "cell_type": "code",
      "execution_count": 14,
      "metadata": {
        "id": "1lCxa1Et0JDb"
      },
      "outputs": [
        {
          "ename": "ValueError",
          "evalue": "invalid literal for int() with base 10: ''",
          "output_type": "error",
          "traceback": [
            "\u001b[1;31m---------------------------------------------------------------------------\u001b[0m",
            "\u001b[1;31mValueError\u001b[0m                                Traceback (most recent call last)",
            "Cell \u001b[1;32mIn[14], line 13\u001b[0m\n\u001b[0;32m     11\u001b[0m str1\u001b[39m=\u001b[39m\u001b[39minput\u001b[39m(\u001b[39m\"\u001b[39m\u001b[39mInput-1: \u001b[39m\u001b[39m\"\u001b[39m)\n\u001b[0;32m     12\u001b[0m str2\u001b[39m=\u001b[39m\u001b[39minput\u001b[39m(\u001b[39m\"\u001b[39m\u001b[39mInput-2: \u001b[39m\u001b[39m\"\u001b[39m)\n\u001b[1;32m---> 13\u001b[0m num\u001b[39m=\u001b[39m\u001b[39mint\u001b[39;49m(\u001b[39minput\u001b[39;49m(\u001b[39m\"\u001b[39;49m\u001b[39mEnter the number: \u001b[39;49m\u001b[39m\"\u001b[39;49m))\n\u001b[0;32m     14\u001b[0m \u001b[39mif\u001b[39;00m(match(str1,str2,num)):\n\u001b[0;32m     15\u001b[0m     \u001b[39mprint\u001b[39m(\u001b[39m\"\u001b[39m\u001b[39mYes the Substring matches.\u001b[39m\u001b[39m\"\u001b[39m)\n",
            "\u001b[1;31mValueError\u001b[0m: invalid literal for int() with base 10: ''"
          ]
        }
      ],
      "source": [
        "'''\n",
        "(6) Substring check\n",
        "'''\n",
        "def match(s1,s2,n):\n",
        "    if(len(s1)<n or len(s2)<n):\n",
        "        return False\n",
        "    for i in range(n):\n",
        "        if(s1[i]!=s2[i]):\n",
        "            return False\n",
        "    return True\n",
        "str1=input(\"Input-1: \")\n",
        "str2=input(\"Input-2: \")\n",
        "num=int(input(\"Enter the number: \"))\n",
        "if(match(str1,str2,num)):\n",
        "    print(\"Yes the Substring matches.\")\n",
        "else:\n",
        "    print(\"No the Substring does not matches.\")"
      ]
    },
    {
      "cell_type": "code",
      "execution_count": null,
      "metadata": {
        "id": "RtGUaaxz0Ov7"
      },
      "outputs": [],
      "source": [
        "'''\n",
        "(7) Count of common words in 2 strings.\n",
        "'''\n",
        "ip1=input(\"Enter IP-1: \")\n",
        "ip2=input(\"Enter IP-2: \")\n",
        "l1=ip1.split(\" \")\n",
        "l2=ip2.split(\" \")\n",
        "count=0\n",
        "for i in range(len(l1)):\n",
        "    for j in range(len(l2)):\n",
        "         if(l1[i]==l2[j]):\n",
        "            count+=1\n",
        "print(\"Common: \",count)"
      ]
    },
    {
      "cell_type": "code",
      "execution_count": null,
      "metadata": {
        "id": "ZvUAv27U0WON"
      },
      "outputs": [],
      "source": [
        "'''\n",
        "(8) Print words with even length.\n",
        "'''\n",
        "def even_lengths(s):\n",
        "    li=s.split()\n",
        "    for i in li:\n",
        "        if(len(i)%2==0):\n",
        "            print(i,end=\" \")\n",
        "even_lengths(\"This is a python language\")\n",
        "print()\n",
        "even_lengths(\"i am kumar\")"
      ]
    },
    {
      "cell_type": "code",
      "execution_count": null,
      "metadata": {
        "id": "_Le-lwGp6UsN"
      },
      "outputs": [],
      "source": [
        "'''\n",
        "(9) Count vowels in the string\n",
        "'''\n",
        "s=input(\"Enter the string: \")\n",
        "v=['a','e','i','o','u']\n",
        "count=0\n",
        "for i in s:\n",
        "    if(i in v):\n",
        "        count+=1\n",
        "print(\"Vowels Count: \",count)"
      ]
    },
    {
      "cell_type": "code",
      "execution_count": null,
      "metadata": {
        "id": "g6q_8T9Y6dlj"
      },
      "outputs": [],
      "source": [
        "'''\n",
        "(10) Print Ascii values of all the even position character in the given string.\n",
        "'''\n",
        "s=input(\"Enter the string: \")\n",
        "ans=''\n",
        "print(\"Answer: \",end='')\n",
        "for i in range(len(s)):\n",
        "    if(i%2!=0):\n",
        "        print(ord(s[i]),end='')\n",
        "    else:\n",
        "        print(s[i],end='')"
      ]
    },
    {
      "cell_type": "code",
      "execution_count": null,
      "metadata": {
        "id": "kNpOwBPn6l-H"
      },
      "outputs": [],
      "source": [
        "'''\n",
        "(11) Insert hifen(-) between 2 odd numbers in the string of integers.\n",
        "'''\n",
        "s=input(\"Enter the String: \")\n",
        "ans=''\n",
        "odd=['1','3','5','7','9']\n",
        "for i in range(len(s)-1):\n",
        "    if(s[i] in odd):\n",
        "        if(s[i+1] in odd):\n",
        "            ans+=s[i]+'-'+s[i+1]\n",
        "            i+=1\n",
        "    else:\n",
        "        ans+=s[i]\n",
        "print(\"Answer: \",ans)"
      ]
    },
    {
      "attachments": {},
      "cell_type": "markdown",
      "metadata": {
        "id": "GeJrDm0S00xf"
      },
      "source": [
        "FUNCTIONS"
      ]
    },
    {
      "cell_type": "code",
      "execution_count": null,
      "metadata": {
        "id": "fWZ2kKzM019K"
      },
      "outputs": [],
      "source": [
        "'''\n",
        "(1) Fibonacci Series\n",
        "'''\n",
        "# Function with parameter and no return value\n",
        "def fibo1(n):\n",
        "    a=0\n",
        "    b=1\n",
        "    print(\"Fibonacci Series: \",a,b,end=\" \")\n",
        "    for i in range(n-2):\n",
        "        c=a+b\n",
        "        print(c,end=\" \")\n",
        "        a=b\n",
        "        b=c\n",
        "\n",
        "# Function with parameter and return value\n",
        "def fibo2(n):\n",
        "    ans=[0,1]\n",
        "    for i in range(n-2):\n",
        "        c=ans[-1]+ans[-2]\n",
        "        ans.append(c)\n",
        "    return ans\n",
        "\n",
        "# Recursion\n",
        "def fibo3(n):\n",
        "    if(n<=1):\n",
        "        return n\n",
        "    else:\n",
        "        return fibo3(n-1)+fibo3(n-2)\n",
        "    \n",
        "fibo1(10)\n",
        "\n",
        "ans=fibo2(10)\n",
        "print(\"\\nFibonacci Series: \",end=\" \")\n",
        "for i in ans:\n",
        "    print(i,end=\" \")\n",
        "\n",
        "print(\"\\nFibonacci Series: \",end=\" \")\n",
        "for i in range(10):\n",
        "    print(fibo3(i),end=\" \")"
      ]
    },
    {
      "cell_type": "code",
      "execution_count": null,
      "metadata": {
        "id": "xK6bZaLB09Wf"
      },
      "outputs": [],
      "source": [
        "'''\n",
        "(2) Count of anagramic substrings.\n",
        "'''\n",
        "def countOfAnagramSubstring(s):\n",
        "\tn = len(s)\n",
        "\tmp = dict()\n",
        "\tfor i in range(n):\n",
        "\t\tsb = ''\n",
        "\t\tfor j in range(i, n):\n",
        "\t\t\tsb = ''.join(sorted(sb + s[j]))\n",
        "\t\t\tmp[sb] = mp.get(sb, 0)\n",
        "\t\t\t# increase count corresponding to this dict array\n",
        "\t\t\tmp[sb] += 1\n",
        "\tanas = 0\n",
        "\t# loop over all different dictionary items and aggregate substring count\n",
        "\tfor k, v in mp.items():\n",
        "\t\tanas += (v*(v-1))//2\n",
        "\treturn anas\n",
        "s = \"abba\"\n",
        "print(countOfAnagramSubstring(s))"
      ]
    },
    {
      "cell_type": "code",
      "execution_count": null,
      "metadata": {
        "id": "DKepsRWY1wcQ"
      },
      "outputs": [],
      "source": [
        "'''\n",
        "(3) Longest Palindrome.\n",
        "'''\n",
        "def ispalindromic(s):\n",
        "\tn = len(s)\n",
        "\thashmap={}\n",
        "\tfor ch in s:\n",
        "\t\tif(ch in hashmap):\n",
        "\t\t\thashmap[ch] = hashmap[ch] + 1\n",
        "\t\telse:\n",
        "\t\t\thashmap[ch] = 1\n",
        "\tcount = 0\n",
        "\tfor key in hashmap:\n",
        "\t\tif(hashmap[key]%2 == 1):\n",
        "\t\t\tcount += 1\n",
        "\tif(count > 1):\n",
        "\t\treturn False\n",
        "\treturn True\n",
        "def longestSubstring(S, n):\n",
        "\tans = 0\n",
        "\tfor i in range(len(S)):\n",
        "\t\tcurstr = \"\"\n",
        "\t\tfor j in range(i,len(S)):\n",
        "\t\t\t# Storing the substring\n",
        "\t\t\tcurstr += S[j]\n",
        "\t\t\t# Checking if it is possible to make it a palindrome\n",
        "\t\t\tif(ispalindromic(curstr) == True):\n",
        "\t\t\t\t# Storing the maximum answer\n",
        "\t\t\t\tans = max(ans, j - i + 1)\n",
        "\treturn ans\n",
        "s = \"adbabd\"\n",
        "n = len(s)\n",
        "print(longestSubstring(s,n))"
      ]
    },
    {
      "cell_type": "code",
      "execution_count": null,
      "metadata": {
        "id": "vfsBjKFm19Ei"
      },
      "outputs": [],
      "source": [
        "'''\n",
        "(4) Pairs with given target.\n",
        "'''\n",
        "def backtrack(candidates, target, combination, result):\n",
        "    if target == 0:\n",
        "        result.append(combination[:])\n",
        "        return\n",
        "    if target < 0:\n",
        "        return\n",
        "    for i in range(len(candidates)):\n",
        "        combination.append(candidates[i])\n",
        "        backtrack(candidates[i:], target - candidates[i], combination, result)\n",
        "        combination.pop()\n",
        "result=[]\n",
        "backtrack([2,3,6,7],7,[],result)\n",
        "print(\"Pairs: \",result)"
      ]
    },
    {
      "cell_type": "code",
      "execution_count": null,
      "metadata": {
        "id": "zH8WD75q2B70"
      },
      "outputs": [],
      "source": [
        "'''\n",
        "(5) Int to Roman\n",
        "'''\n",
        "def intToRoman(num):\n",
        "    symbols = [\"M\", \"CM\", \"D\", \"CD\", \"C\", \"XC\", \"L\", \"XL\", \"X\", \"IX\", \"V\", \"IV\", \"I\"]\n",
        "    values = [1000, 900, 500, 400, 100, 90, 50, 40, 10, 9, 5, 4, 1]\n",
        "    result = \"\"\n",
        "    for i in range(len(values)):\n",
        "        while num >= values[i]:\n",
        "            result += symbols[i]\n",
        "            num -= values[i]\n",
        "    return result\n",
        "print(intToRoman(9))\n",
        "print(intToRoman(58))"
      ]
    },
    {
      "attachments": {},
      "cell_type": "markdown",
      "metadata": {
        "id": "7sBSDsw12JAk"
      },
      "source": [
        "REGULAR EXPRESSIONS"
      ]
    },
    {
      "cell_type": "code",
      "execution_count": null,
      "metadata": {
        "id": "_WE0PVb92KtV"
      },
      "outputs": [],
      "source": [
        "'''\n",
        "(1) Password Validation\n",
        "'''\n",
        "import re\n",
        "def password(passwords):\n",
        "    req=\"^(?=.*[a-z])(?=.*[A-Z])(?=.*\\d)(?=.*[$#@])[a-zA-Z\\d$#@]{6,12}$\"\n",
        "    for p in passwords:\n",
        "        if(re.match(req,p)):\n",
        "            print(p)\n",
        "li=[\"ABd1234@1\",\"aF1#\",\"2w3E*\",\"2We3345\"]\n",
        "print(\"Given Passwords: \",li)\n",
        "print(\"Valid Passwords: \",end=\"\")\n",
        "password(li)"
      ]
    },
    {
      "cell_type": "code",
      "execution_count": null,
      "metadata": {
        "id": "1KT2izlO20LI"
      },
      "outputs": [],
      "source": [
        "#password\n",
        "import re\n",
        "req=\"^(?=.*[a-z])(?=.*[A-Z])(?=.*\\d)(?=.*[!@#$%^&*?])[a-zA-Z\\d!@#$%^&*?]{6,20}$\"\n",
        "password=\"sampleS@2023\"\n",
        "if(re.match(req,password)):\n",
        "    print(\"Valid\")\n",
        "else:\n",
        "    print(\"Invalid\")"
      ]
    },
    {
      "cell_type": "code",
      "execution_count": null,
      "metadata": {
        "id": "Ds8q25ir2Whm"
      },
      "outputs": [],
      "source": [
        "def password_check(passwd):\n",
        "\tSpecialSym =['$', '@', '#', '%']\n",
        "\tval = True\n",
        "\tif len(passwd) < 8:\n",
        "\t\tprint('length should be at least 8')\n",
        "\t\tval = False\n",
        "\n",
        "\thas_digit = False\n",
        "\thas_upper = False\n",
        "\thas_lower = False\n",
        "\thas_sym = False\n",
        "\tfor char in passwd:\n",
        "\t\tif ord(char) >= 48 and ord(char) <= 57:\n",
        "\t\t\thas_digit = True\n",
        "\t\telif ord(char) >= 65 and ord(char) <= 90:\n",
        "\t\t\thas_upper = True\n",
        "\t\telif ord(char) >= 97 and ord(char) <= 122:\n",
        "\t\t\thas_lower = True\n",
        "\t\telif char in SpecialSym:\n",
        "\t\t\thas_sym = True\n",
        "\n",
        "\tif not has_digit:\n",
        "\t\tprint('Password should have at least one numeral')\n",
        "\t\tval = False\n",
        "\tif not has_upper:\n",
        "\t\tprint('Password should have at least one uppercase letter')\n",
        "\t\tval = False\n",
        "\tif not has_lower:\n",
        "\t\tprint('Password should have at least one lowercase letter')\n",
        "\t\tval = False\n",
        "\tif not has_sym:\n",
        "\t\tprint('Password should have at least one of the symbols $@#')\n",
        "\t\tval = False\n",
        "\n",
        "\treturn val\n",
        "\n",
        "print(password_check('VITvellore'))"
      ]
    },
    {
      "cell_type": "code",
      "execution_count": null,
      "metadata": {
        "id": "03WqZTd22XL7"
      },
      "outputs": [],
      "source": [
        "import re\n",
        " \n",
        "def check():\n",
        "    passwd = 'Geek12@1'\n",
        "    reg = \"^(?=.*?[A-Z])(?=.*?[a-z])(?=.*?[0-9])(?=.*?[#?!@$%^&*-]).{8,}$\"\n",
        "     \n",
        "    # compiling regex\n",
        "    pat = re.compile(reg)\n",
        "    print(type(pat))\n",
        "    # searching regex                \n",
        "    mat = re.search(pat, passwd)\n",
        "     \n",
        "    # validating conditions\n",
        "    if mat:\n",
        "        print(\"Password is valid.\")\n",
        "    else:\n",
        "        print(\"Password invalid !!\")\n",
        " \n",
        "\n",
        "check()"
      ]
    },
    {
      "cell_type": "code",
      "execution_count": null,
      "metadata": {
        "id": "ZgHYyPGr2a2w"
      },
      "outputs": [],
      "source": [
        "import re\n",
        "\n",
        "def checkPass(str):\n",
        "    ex8char = \"^(........+)\"          #{8,}\n",
        "    exupperchar = \"^(?=.*?[A-Z])\"\n",
        "    exlowerchar = \"^(?=.*?[a-z])\"\n",
        "    exdigit = \"^(?=.*?[0-9])\"\n",
        "    exspecialchar = \"^(?=.*?[#?!@$%^&-])\"\n",
        "    #print(re.match(ex8char,str))\n",
        "\n",
        "    if(re.match(ex8char,str) == None):\n",
        "        print('Password should have at least 8 character')\n",
        "    if(re.match(exupperchar,str) == None):\n",
        "        print('Password should have at least one uppercase letter')\n",
        "    if(re.match(exlowerchar,str) == None):\n",
        "        print('Password should have at least one lowercase letter')\n",
        "    if(re.match(exdigit,str) == None):\n",
        "        print('Password should have at least one digit')\n",
        "    if(re.match(exspecialchar,str) == None):\n",
        "        print('Password should have at least one of the symbols #?!@$%^&-')\n",
        "\n",
        "\n",
        "    passPattern = \"^(?=.*?[A-Z])(?=.*?[a-z])(?=.*?[0-9])(?=.*?[#?!@$%^&*-]).{8,}$\"\n",
        "    if(re.match(passPattern,str) == None):\n",
        "        print(\"Password is Invalid\")\n",
        "    else:\n",
        "        print(\"Password is Valid\")\n",
        "\n",
        "\n",
        "checkPass(\"VIT@vellore1\")"
      ]
    },
    {
      "cell_type": "code",
      "execution_count": null,
      "metadata": {
        "id": "zJ-E097p2g3t"
      },
      "outputs": [],
      "source": [
        "'''\n",
        "(2) Email VAlidation.\n",
        "'''\n",
        "#email\n",
        "import re\n",
        "reg=\"^[a-zA-Z]+\\.[a-zA-Z]+@[a-z]+\\.[a-z]{3}$\"\n",
        "email=\"sample.email@gmail.com\"\n",
        "if(re.match(reg,email)):\n",
        "    print(\"Valid\")\n",
        "else:\n",
        "    print(\"Invalid\")"
      ]
    },
    {
      "cell_type": "code",
      "execution_count": null,
      "metadata": {
        "id": "IZEsRaGN2mUe"
      },
      "outputs": [],
      "source": [
        "#email\n",
        "import re\n",
        "req=\"^[a-z0-9]+@[a-z]+\\.[a-z]{3}$\"\n",
        "email=\"sample10@gmail.com\"\n",
        "if(re.match(req,email)):\n",
        "    print(\"Valid\")\n",
        "else:\n",
        "    print(\"Invalid\")"
      ]
    },
    {
      "cell_type": "code",
      "execution_count": null,
      "metadata": {
        "id": "AO8G2U2G2oCq"
      },
      "outputs": [],
      "source": [
        "'''\n",
        "(3) Aadhaar Validation\n",
        "'''\n",
        "#aadhar\n",
        "import re\n",
        "req=\"^[0-9]{4}\\-[0-9]{4}\\-[0-9]{4}$\"\n",
        "a=\"9807-9087-4532\"\n",
        "if(re.match(req,a)):\n",
        "    print(\"Valid\")\n",
        "else:\n",
        "    print(\"Invalid\")"
      ]
    },
    {
      "cell_type": "code",
      "execution_count": null,
      "metadata": {
        "id": "0L0osu5X23aL"
      },
      "outputs": [],
      "source": [
        "'''\n",
        "(4) Tag Validation\n",
        "'''\n",
        "#tag\n",
        "import re\n",
        "req=\"^\\D[a-z]+\\D$\"\n",
        "tag=\"<hello>\"\n",
        "if(re.match(req,tag)):\n",
        "    print(\"Valid\")\n",
        "else:\n",
        "    print(\"Invalid\")"
      ]
    },
    {
      "cell_type": "code",
      "execution_count": null,
      "metadata": {
        "id": "_rQHnE0B273I"
      },
      "outputs": [],
      "source": [
        "'''\n",
        "(5) Driving License Validation\n",
        "'''\n",
        "#driving license\n",
        "import re\n",
        "req=\"^[A-Z]{2}[0-9][1-9]\\s(19|20)[0-9]{2}[0-9]{6}[1-9]$\"\n",
        "inp=\"TN09 20181563489\"\n",
        "if(re.match(req,inp)):\n",
        "    print(\"Valid\")\n",
        "else:\n",
        "    print(\"Invalid\")"
      ]
    },
    {
      "attachments": {},
      "cell_type": "markdown",
      "metadata": {
        "id": "V3OPWxwu3Ere"
      },
      "source": [
        "DICTIONERY"
      ]
    },
    {
      "cell_type": "code",
      "execution_count": null,
      "metadata": {
        "id": "Lm4mMX3x3GXy"
      },
      "outputs": [],
      "source": [
        "'''\n",
        "(1) Dictionery inside list\n",
        "'''\n",
        "student_details= [\n",
        "  {'id' : 1, 'subject' : 'math', 'V' : 70, 'VI' : 82},\n",
        "  {'id' : 2, 'subject' : 'math', 'V' : 73, 'VI' : 74},\n",
        "  {'id' : 3, 'subject' : 'math', 'V' : 75, 'VI' : 86}\n",
        "]\n",
        "for d in student_details:\n",
        "    n1 = d.pop('V')\n",
        "    n2 = d.pop('VI')\n",
        "    d['V+VI'] = (n1 + n2)/2\n",
        "print(student_details)"
      ]
    },
    {
      "cell_type": "code",
      "execution_count": null,
      "metadata": {
        "id": "uga8UPmy3Qad"
      },
      "outputs": [],
      "source": [
        "'''\n",
        "(2) Orange Cap.\n",
        "'''\n",
        "def orangecap(d):\n",
        "    score = {}\n",
        "    for match in d:\n",
        "        for player in d[match]:\n",
        "            if player in score:\n",
        "                score[player] += d[match][player]\n",
        "            else:\n",
        "                score[player] = d[match][player]\n",
        "    (playername, topscore) = (\"\", 0)\n",
        "    print(score)\n",
        "    for player in score:\n",
        "        if score[player] > topscore:\n",
        "            topscore = score[player]\n",
        "            playername = player\n",
        "    return (playername, topscore)\n",
        "print(orangecap({'test1':{'Ashwin':84, 'Kohli':120}, 'test2':{'Ashwin':59, 'Pujara':42}}))"
      ]
    },
    {
      "cell_type": "code",
      "execution_count": null,
      "metadata": {
        "id": "rdilmpi53bQH"
      },
      "outputs": [],
      "source": [
        "'''\n",
        "(3) Number as key and its square as value.\n",
        "'''\n",
        "x=int(input(\"Enter the number: \"))\n",
        "d={}\n",
        "for i in range(1,x+1):\n",
        "    d[i]=i*i\n",
        "print(d)"
      ]
    },
    {
      "attachments": {},
      "cell_type": "markdown",
      "metadata": {
        "id": "6XsI01ki3orP"
      },
      "source": [
        "LIST"
      ]
    },
    {
      "cell_type": "code",
      "execution_count": null,
      "metadata": {
        "id": "klkLMsfu3pjt"
      },
      "outputs": [],
      "source": [
        "'''\n",
        "(1) Looping 3 lists to make sentence.\n",
        "'''\n",
        "subjects=['I','You']\n",
        "verbs=['Play','Love']\n",
        "objects=['Hockey','Football']\n",
        "for i in subjects:\n",
        "    for j in verbs:\n",
        "        for k in objects:\n",
        "            print(i+' '+j+' '+k)"
      ]
    },
    {
      "cell_type": "code",
      "execution_count": null,
      "metadata": {
        "id": "ZLzksoYN3xOg"
      },
      "outputs": [],
      "source": [
        "'''\n",
        "(2) Sum in pairs of 5.\n",
        "'''\n",
        "l=[]\n",
        "for i in range(1,201):\n",
        "    l.append(i)\n",
        "ans=[]\n",
        "tmp=0\n",
        "for i in range(5,201,5):\n",
        "    s=(i+1)*(i)//2\n",
        "    tmp=sum(ans)\n",
        "    ans.append(s-tmp)\n",
        "print(ans)\n",
        "print(\"Length: \",len(ans))"
      ]
    },
    {
      "cell_type": "code",
      "execution_count": null,
      "metadata": {
        "id": "3CXUn4r74tSg"
      },
      "outputs": [],
      "source": [
        "'''\n",
        "(3) Number of Good Pairs.\n",
        "'''\n",
        "li=[1,2,3,1,1,3]\n",
        "count=0\n",
        "for i in range(len(li)):\n",
        "    for j in range(i+1,len(li)):\n",
        "        if(li[i]==li[j]):\n",
        "            print(\"(\",i,\",\",j,\")\")\n",
        "            count+=1\n",
        "print(\"Total Good Pairs: \",count)"
      ]
    },
    {
      "cell_type": "code",
      "execution_count": null,
      "metadata": {
        "id": "66oE8j1F5F_u"
      },
      "outputs": [],
      "source": [
        "'''\n",
        "(4) Store the number as per the frequency given in the same list.\n",
        "'''\n",
        "li=[1,2,3,4]\n",
        "ans=[]\n",
        "for i in range(0,len(li),2):\n",
        "    freq=li[i]\n",
        "    num=li[i+1]\n",
        "    for i in range(freq):\n",
        "        ans.append(num)\n",
        "print(ans)"
      ]
    },
    {
      "attachments": {},
      "cell_type": "markdown",
      "metadata": {
        "id": "ZB3uVysJ35Q_"
      },
      "source": [
        "WEB SCRAPPING"
      ]
    },
    {
      "cell_type": "code",
      "execution_count": null,
      "metadata": {
        "id": "qxsku_Kk36ed"
      },
      "outputs": [],
      "source": [
        "'''\n",
        "(1) All the linked websites with a particular domain.\n",
        "'''\n",
        "import requests\n",
        "from bs4 import BeautifulSoup\n",
        "url=input(\"Enter the correct URL: \")\n",
        "reqs = requests.get(url)\n",
        "soup = BeautifulSoup(reqs.text, 'html.parser')\n",
        "urls = []\n",
        "for link in soup.find_all('a'):\n",
        "    print(link.get('href'))\n"
      ]
    },
    {
      "attachments": {},
      "cell_type": "markdown",
      "metadata": {
        "id": "-NWbgv6v7xiY"
      },
      "source": [
        "LAB CAT-1 QUESTIONS"
      ]
    },
    {
      "cell_type": "code",
      "execution_count": null,
      "metadata": {
        "id": "YkaQt3Yy70Hg"
      },
      "outputs": [],
      "source": [
        "'''\n",
        "(1).Write the python program to print the matrix in Z form\n",
        "\n",
        "Input: a= [ [ 4, 5, 6, 8], [ 1, 2, 3, 1], [ 7, 8, 9, 4], [ 1, 8, 7, 5 ] ]\n",
        "\n",
        "Output: 4 5 6 8 3 8 1 8 7 5\n",
        "'''\n",
        "def print_matrix_z(matrix):\n",
        "    rows = len(matrix)\n",
        "    cols = len(matrix[0])\n",
        "    is_forward = True\n",
        "    for i in range(rows):\n",
        "        for j in range(cols):\n",
        "            print(matrix[i][j], end=\" \")\n",
        "        if is_forward:\n",
        "            i += 1\n",
        "            j -= 1\n",
        "        else:\n",
        "            i -= 1\n",
        "            j += 1\n",
        "        is_forward = not is_forward\n",
        "        print()\n",
        "a = [[4, 5, 6, 8],\n",
        "     [1, 2, 3, 1],\n",
        "     [7, 8, 9, 4],\n",
        "     [1, 8, 7, 5]]\n",
        "print_matrix_z(a)"
      ]
    },
    {
      "cell_type": "code",
      "execution_count": null,
      "metadata": {
        "id": "WNNCZSrN8EJY"
      },
      "outputs": [],
      "source": [
        "'''\n",
        "(2). Create a program with a for loop and a continue statement. \n",
        "The program should iterate over a string of digits, replace each 0 with x, \n",
        "and print the modified string to the screen.\n",
        "String =”0165031806510”  Output : x165x318x651x'''\n",
        "\n",
        "string = \"0165031806510\"\n",
        "modified_string = \"\"\n",
        "for digit in string:\n",
        "    if digit == '0':\n",
        "        modified_string += 'x'\n",
        "        continue\n",
        "    modified_string += digit\n",
        "print(modified_string)"
      ]
    },
    {
      "cell_type": "code",
      "execution_count": null,
      "metadata": {
        "id": "icb4M5Be8d_n"
      },
      "outputs": [],
      "source": [
        "'''\n",
        "(3). Python program to display all integers within the range 100-200 whose sum of digits is an even number\n",
        "Sample Expected Output :101 103 105 107 109………198\n",
        "'''\n",
        "def sum_of_digits_even(num):\n",
        "    digit_sum = sum(int(digit) for digit in str(num))\n",
        "    return digit_sum % 2 == 0\n",
        "start = 100\n",
        "end = 200\n",
        "for num in range(start, end + 1):\n",
        "    if sum_of_digits_even(num):\n",
        "        print(num, end=\" \")"
      ]
    },
    {
      "cell_type": "code",
      "execution_count": null,
      "metadata": {
        "id": "Ce7uNZNt8n7D"
      },
      "outputs": [],
      "source": [
        "'''\n",
        "(4) Write a python program to sum the major & minor  diagonal\n",
        "Input: [[4,5,6,8], [1, 2, 3,1],[7,8,9,4],[1,8,7,5]] \n",
        "'''\n",
        "def sum_diagonals(matrix):\n",
        "    rows = len(matrix)\n",
        "    cols = len(matrix[0])\n",
        "\n",
        "    major_diagonal_sum = 0\n",
        "    minor_diagonal_sum = 0\n",
        "\n",
        "    for i in range(rows):\n",
        "        major_diagonal_sum += matrix[i][i]\n",
        "        minor_diagonal_sum += matrix[i][cols - 1 - i]\n",
        "    return major_diagonal_sum, minor_diagonal_sum\n",
        "matrix = [[4, 5, 6, 8],\n",
        "          [1, 2, 3, 1],\n",
        "          [7, 8, 9, 4],\n",
        "          [1, 8, 7, 5]]\n",
        "major_sum, minor_sum = sum_diagonals(matrix)\n",
        "print(\"Sum of the major diagonal:\", major_sum)\n",
        "print(\"Sum of the minor diagonal:\", minor_sum)"
      ]
    },
    {
      "cell_type": "code",
      "execution_count": null,
      "metadata": {
        "id": "GBvh3nml826F"
      },
      "outputs": [],
      "source": [
        "'''\n",
        "(5) Write a program to Print current and previous number and their sum in a range(10).\n",
        "Sample Expected Output:\n",
        "Current Number 1 Previous Number  0  Sum:  1\n",
        "Current Number 2 Previous Number  1  Sum:  3 \n",
        "'''\n",
        "previous_number = 0\n",
        "for current_number in range(1, 11):\n",
        "    sum_numbers = current_number + previous_number\n",
        "    print(\"Current Number:\", current_number, \"Previous Number:\", previous_number, \"Sum:\", sum_numbers)\n",
        "    previous_number = current_number"
      ]
    },
    {
      "cell_type": "code",
      "execution_count": null,
      "metadata": {
        "id": "G1xFHLXO9FfB"
      },
      "outputs": [],
      "source": [
        "'''\n",
        "(6) Create a mixed String using the following rules\n",
        "Given two strings, s1 and s2. Write a program to create a new string s3 made of the first char of s1, then the last char of s2, \n",
        "Next, the second char of s1 and second last char of s2, and so on. Any leftover chars go at the end of the result.\n",
        "'''\n",
        "def create_mixed_string(s1, s2):\n",
        "    mixed_string = ''\n",
        "    min_len = min(len(s1), len(s2))\n",
        "    for i in range(min_len):\n",
        "        mixed_string += s1[i] + s2[-(i+1)]\n",
        "    if len(s1) > min_len:\n",
        "        mixed_string += s1[min_len:]\n",
        "    elif len(s2) > min_len:\n",
        "        mixed_string += s2[:-min_len-1:-1]\n",
        "    return mixed_string\n",
        "s1 = \"Hello\"\n",
        "s2 = \"World\"\n",
        "mixed_string = create_mixed_string(s1, s2)\n",
        "print(mixed_string)"
      ]
    },
    {
      "cell_type": "code",
      "execution_count": null,
      "metadata": {
        "id": "tdOuY73e9b2c"
      },
      "outputs": [],
      "source": [
        "''' \n",
        "(7) Write a Program to print whether given is Toeplitz  Matrix\n",
        "mat = [ [ 6, 7, 8, 9], [ 4, 6, 7, 8], [ 1, 4, 6, 7], [ 0, 1, 4, 6], [ 2, 0, 1, 4] ];\n",
        "'''\n",
        "def is_toeplitz_matrix(matrix):\n",
        "    rows = len(matrix)\n",
        "    cols = len(matrix[0])\n",
        "    for i in range(1, rows):\n",
        "        for j in range(1, cols):\n",
        "            if matrix[i][j] != matrix[i-1][j-1]:\n",
        "                return False\n",
        "    return True\n",
        "mat = [[6, 7, 8, 9],\n",
        "       [4, 6, 7, 8],\n",
        "       [1, 4, 6, 7],\n",
        "       [0, 1, 4, 6],\n",
        "       [2, 0, 1, 4]]\n",
        "if is_toeplitz_matrix(mat):\n",
        "    print(\"The matrix is a Toeplitz matrix.\")\n",
        "else:\n",
        "    print(\"The matrix is not a Toeplitz matrix.\")"
      ]
    },
    {
      "cell_type": "code",
      "execution_count": null,
      "metadata": {
        "id": "fqQNDllu9sLg"
      },
      "outputs": [],
      "source": [
        "'''\n",
        "(8) Write a python program to check if two numbers are equal  without using == operator\n",
        "'''\n",
        "def are_numbers_equal(num1, num2):\n",
        "    return (num1 - num2) == 0\n",
        "num1 = 10\n",
        "num2 = 10\n",
        "if are_numbers_equal(num1, num2):\n",
        "    print(\"The numbers are equal.\")\n",
        "else:\n",
        "    print(\"The numbers are not equal.\")\n",
        "num1 = 15\n",
        "num2 = 20\n",
        "if are_numbers_equal(num1, num2):\n",
        "    print(\"The numbers are equal.\")\n",
        "else:\n",
        "    print(\"The numbers are not equal.\")"
      ]
    },
    {
      "cell_type": "code",
      "execution_count": null,
      "metadata": {
        "id": "jRJM8Xmo96Wj"
      },
      "outputs": [],
      "source": [
        "'''\n",
        "(9) Write the python program to implement Matrix Multiplication \n",
        "'''\n",
        "X = [[12,7,3],\n",
        "    [4 ,5,6],\n",
        "    [7 ,8,9]]\n",
        "Y = [[5,8,1,2],\n",
        "    [6,7,3,0],\n",
        "    [4,5,9,1]]\n",
        "result = [[0,0,0,0],\n",
        "         [0,0,0,0],\n",
        "         [0,0,0,0]]\n",
        "for i in range(len(X)):\n",
        "   for j in range(len(Y[0])):\n",
        "       for k in range(len(Y)):\n",
        "           result[i][j] += X[i][k] * Y[k][j]\n",
        "for r in result:\n",
        "   print(r)"
      ]
    },
    {
      "attachments": {},
      "cell_type": "markdown",
      "metadata": {
        "id": "9vQPoHRA_J7N"
      },
      "source": [
        "LAB CAT-2 QUESTIONS"
      ]
    },
    {
      "cell_type": "code",
      "execution_count": null,
      "metadata": {
        "id": "ogq5kAZS_LgM"
      },
      "outputs": [],
      "source": [
        "'''\n",
        "(1) Write an efficient algorithm that searches for a value in an m x n matrix. Integers in\n",
        "each row are sorted from left to right.\n",
        "The first integer of each row is greater than the last integer of the previous row.\n",
        "Test Case:\n",
        "matrix = [ [1, 3, 5, 7],[10, 11, 16, 20],[23, 30, 34, 50] ]\n",
        "target = 3\n",
        "Output: true\n",
        "'''\n",
        "def search_matrix(matrix, target):\n",
        "    if not matrix or not matrix[0]:\n",
        "        return False\n",
        "    rows = len(matrix)\n",
        "    cols = len(matrix[0])\n",
        "    left = 0\n",
        "    right = rows * cols - 1\n",
        "    while left <= right:\n",
        "        mid = (left + right) // 2\n",
        "        row = mid // cols\n",
        "        col = mid % cols\n",
        "        if matrix[row][col] == target:\n",
        "            return True\n",
        "        elif matrix[row][col] < target:\n",
        "            left = mid + 1\n",
        "        else:\n",
        "            right = mid - 1\n",
        "    return False\n",
        "matrix = [[1, 3, 5, 7], [10, 11, 16, 20], [23, 30, 34, 50]]\n",
        "target = 3\n",
        "print(search_matrix(matrix, target))"
      ]
    },
    {
      "cell_type": "code",
      "execution_count": null,
      "metadata": {
        "id": "CPYtkMMK_kiM"
      },
      "outputs": [],
      "source": [
        "'''\n",
        "(2) Write a program that accepts sequence of lines as input and prints the lines after making\n",
        "all characters in the sentence capitalized.\n",
        "Suppose the following input is supplied to the program:\n",
        "Hello world\n",
        "Practice makes perfect\n",
        "Then, the output should be:\n",
        "HELLO WORLD\n",
        "PRACTICE MAKES PERFECT\n",
        "'''\n",
        "def capitalize_lines():\n",
        "    lines = []\n",
        "    while True:\n",
        "        line = input(\"Enter a line (or 'q' to quit): \")\n",
        "        if line == 'q':\n",
        "            break\n",
        "        lines.append(line.upper())\n",
        "    for line in lines:\n",
        "        print(line)\n",
        "capitalize_lines()"
      ]
    },
    {
      "cell_type": "code",
      "execution_count": null,
      "metadata": {
        "id": "7d3eOZxY_4vV"
      },
      "outputs": [],
      "source": [
        "'''\n",
        "(3) Write a program, which will find all such numbers between 2000 and 3000 (both\n",
        "included) such that each digit of the number is an even number.\n",
        "The numbers obtained should be printed in a comma-separated sequence on a single line.\n",
        "Expected Output: 2000,2002,2004,2008,2020,2024………\n",
        "'''\n",
        "def find_even_digit_numbers():\n",
        "    numbers = []\n",
        "    for num in range(2000, 3001):\n",
        "        digits = [int(digit) for digit in str(num)]\n",
        "        if all(digit % 2 == 0 for digit in digits):\n",
        "            numbers.append(str(num))\n",
        "    print(\",\".join(numbers))\n",
        "find_even_digit_numbers()"
      ]
    },
    {
      "cell_type": "code",
      "execution_count": null,
      "metadata": {
        "id": "QvgKP5rDAG7_"
      },
      "outputs": [],
      "source": [
        "'''\n",
        "(4) Write a REGEX to validate Identifier\n",
        "Test Cases:\n",
        "1. It must start with either lower case alphabet[a-z] or upper case alphabet[A-Z] or\n",
        "underscore(_).\n",
        "2. It should be a single word, the white spaces are not allowed.\n",
        "3. It should not start with digits\n",
        "'''\n",
        "import re\n",
        "def validate_identifier(identifier):\n",
        "    pattern = r\"^[a-zA-Z_][a-zA-Z0-9_]*$\"\n",
        "    return bool(re.match(pattern, identifier))\n",
        "identifiers = [\"validIdentifier\", \"123Invalid\", \"_underscore\", \"spaces not allowed\", \"Another_Valid123\"]\n",
        "for identifier in identifiers:\n",
        "    if validate_identifier(identifier):\n",
        "        print(f\"{identifier} is a valid identifier.\")\n",
        "    else:\n",
        "        print(f\"{identifier} is an invalid identifier.\")"
      ]
    },
    {
      "cell_type": "code",
      "execution_count": null,
      "metadata": {
        "id": "UOiB55-aAXvB"
      },
      "outputs": [],
      "source": [
        "'''\n",
        "(5) Write a REGEX to validate the pin code of India\n",
        "Test Cases:\n",
        "1. It can be only six digits.\n",
        "2. It should not start with zero.\n",
        "3. First digit of the pin code must be from 1 to 9.\n",
        "4. Next five digits of the pin code may range from 0 to 9.\n",
        "5. It should allow only one white space, but after three digits, although this is optional.\n",
        "'''\n",
        "import re\n",
        "def validate_pin_code(pin_code):\n",
        "    pattern = r\"^[1-9][0-9]{2}\\s?[0-9]{3}$\"\n",
        "    return bool(re.match(pattern, pin_code))\n",
        "pin_codes = [\"123456\", \"012345\", \"567 890\", \"45678\", \"123 4567\"]\n",
        "for pin_code in pin_codes:\n",
        "    if validate_pin_code(pin_code):\n",
        "        print(f\"{pin_code} is a valid pin code.\")\n",
        "    else:\n",
        "        print(f\"{pin_code} is an invalid pin code.\")"
      ]
    },
    {
      "cell_type": "code",
      "execution_count": null,
      "metadata": {
        "id": "M4Jze0BmAmPW"
      },
      "outputs": [],
      "source": [
        "'''\n",
        "(6) Write a program which accepts a sequence of comma separated 4 digit binary numbers as its\n",
        "input and then check whether they are divisible by 5 or not. The numbers that are divisible by 5 are\n",
        "to be printed in a comma separated sequence.\n",
        "Example:\n",
        "0100,0011,1010,1001\n",
        "Then the output should be:\n",
        "1010\n",
        "'''\n",
        "def check_divisible_by_5():\n",
        "    binary_numbers = input(\"Enter comma-separated 4-digit binary numbers: \")\n",
        "    numbers = binary_numbers.split(\",\")\n",
        "    divisible_by_5 = []\n",
        "    for number in numbers:\n",
        "        decimal = int(number, 2)\n",
        "        if decimal % 5 == 0:\n",
        "            divisible_by_5.append(number)\n",
        "    print(\",\".join(divisible_by_5))\n",
        "check_divisible_by_5()"
      ]
    },
    {
      "attachments": {},
      "cell_type": "markdown",
      "metadata": {
        "id": "2Xzt2VWvBJLL"
      },
      "source": [
        "ASSESSMENT-2"
      ]
    },
    {
      "cell_type": "code",
      "execution_count": null,
      "metadata": {
        "id": "HLHtNAueBOrB"
      },
      "outputs": [],
      "source": [
        "'''\n",
        "(1) You throw two dice, one black and one green. What is the probability that the number\n",
        "of eyes on the black die is larger than the number of eyes on the green die?\n",
        " Note: We can simulate N throws of two dice in a program. For each throw we see if the\n",
        "event is successful, and if so, increase M by one\n",
        "'''\n",
        "import random\n",
        "def calculate_probability(N):\n",
        "    M = 0 \n",
        "    for _ in range(N):\n",
        "        black_die = random.randint(1, 6)\n",
        "        green_die = random.randint(1, 6)\n",
        "        if black_die > green_die:\n",
        "            M += 1\n",
        "    probability = M / N\n",
        "    return probability\n",
        "N = 100000\n",
        "probability = calculate_probability(N)\n",
        "print(\"Probability:\", probability)"
      ]
    },
    {
      "cell_type": "code",
      "execution_count": null,
      "metadata": {
        "id": "IBJnI_gnBV8T"
      },
      "outputs": [],
      "source": [
        "'''\n",
        "(2) Develop the step-by-step program for guessing game using following constraints\n",
        " Note: The player only gets five turns. Hint : use randint( ) function for secret_num\n",
        " The program tells the player after each guess if the number is higher or lower.\n",
        " The program prints appropriate messages for when the player wins and losses.\n",
        " Sample Output:\n",
        "Enter your guess (1-100): 50\n",
        "LOWER. 4 guesses left.\n",
        "Enter your guess (1-100): 25\n",
        "LOWER. 3 guesses left.\n",
        "Enter your guess (1-100): 12\n",
        "LOWER. 2 guesses left.\n",
        "Enter your guess (1-100): 6\n",
        "HIGHER. 1 guesses left.\n",
        "Enter your guess (1-100): 9\n",
        "LOWER. 0 guesses left.\n",
        "You lose. The correct number is 8\n",
        "'''\n",
        "import random\n",
        "def guessing_game():\n",
        "    secret_num = random.randint(1, 100)\n",
        "    guesses_left = 5\n",
        "    while guesses_left > 0:\n",
        "        guess = int(input(\"Enter your guess (1-100): \"))\n",
        "        if guess == secret_num:\n",
        "            print(\"Congratulations! You win.\")\n",
        "            return\n",
        "        elif guess < secret_num:\n",
        "            print(\"LOWER. {} guesses left.\".format(guesses_left - 1))\n",
        "        else:\n",
        "            print(\"HIGHER. {} guesses left.\".format(guesses_left - 1))\n",
        "        guesses_left -= 1\n",
        "    print(\"You lose. The correct number is {}.\".format(secret_num))\n",
        "guessing_game()"
      ]
    },
    {
      "cell_type": "code",
      "execution_count": null,
      "metadata": {
        "id": "ffqQAEqABilA"
      },
      "outputs": [],
      "source": [
        "'''\n",
        "(3) VIT follows relative grading based on the class average to grade the performance of\n",
        "students in various examinations. Write a program that accepts the marks secured by a\n",
        "student for a given subject along with the average marks of the respective class. Then display\n",
        "the grade he has secured, based on the following instructions.\n",
        "a) Grading is done based on the deviation from class average.\n",
        "b) If the deviation from class average of the student’s mark is greater than\n",
        "or equal to 20, the student has scored S grade\n",
        "c) If the deviation from class average of the student’s mark is greater than\n",
        "or equal to 10, the student has scored A grade\n",
        "d) If the deviation from class average of the student’s mark is within the\n",
        "range of -5 to + 5, the student has scored B grade\n",
        "e) If the deviation from class average of the student’s mark is less than or\n",
        "equal to 10, the student has scored C grade\n",
        "f) If the deviation from class average of the student’s mark is less than or\n",
        "equal to 15, the student has scored D grade\n",
        "g) If the deviation from class average of the student’s mark is less than\n",
        "20, the student has scored F grade.\n",
        "'''\n",
        "def calculate_grade(student_marks, class_average):\n",
        "    deviation = student_marks - class_average\n",
        "    if deviation >= 20:\n",
        "        return \"S\"\n",
        "    elif deviation >= 10:\n",
        "        return \"A\"\n",
        "    elif -5 <= deviation <= 5:\n",
        "        return \"B\"\n",
        "    elif deviation <= 10:\n",
        "        return \"C\"\n",
        "    elif deviation <= 15:\n",
        "        return \"D\"\n",
        "    else:\n",
        "        return \"F\"\n",
        "student_marks = float(input(\"Enter student's marks: \"))\n",
        "class_average = float(input(\"Enter class average: \"))\n",
        "grade = calculate_grade(student_marks, class_average)\n",
        "print(\"Grade: \", grade)"
      ]
    },
    {
      "cell_type": "code",
      "execution_count": null,
      "metadata": {
        "id": "c7ylIc6gBwe0"
      },
      "outputs": [],
      "source": [
        "'''\n",
        "(4) Indian Railways offer Senior Citizen Concession for elderly people above certain age.\n",
        "Develop a program that accepts the age and gender of the user and display whether\n",
        "he/she is eligible for concession in this category. Also display the ticket amount\n",
        "he/she has to pay based on the concession.\n",
        "Male Age>=60, 40% of base fare\n",
        "Female Age>=58, 50% of base fare\n",
        "'''\n",
        "def calculate_concession(age, gender):\n",
        "    if gender.lower() == 'male' and age >= 60:\n",
        "        concession_percentage = 0.4\n",
        "    elif gender.lower() == 'female' and age >= 58:\n",
        "        concession_percentage = 0.5\n",
        "    else:\n",
        "        return None\n",
        "    base_fare = 100 \n",
        "    concession_amount = base_fare * concession_percentage\n",
        "    ticket_amount = base_fare - concession_amount\n",
        "    return ticket_amount\n",
        "age = int(input(\"Enter age: \"))\n",
        "gender = input(\"Enter gender (Male/Female): \")\n",
        "ticket_amount = calculate_concession(age, gender)\n",
        "if ticket_amount is not None:\n",
        "    print(\"You are eligible for a senior citizen concession.\")\n",
        "    print(\"Ticket amount: \", ticket_amount)\n",
        "else:\n",
        "    print(\"You are not eligible for a senior citizen concession.\")"
      ]
    },
    {
      "cell_type": "code",
      "execution_count": null,
      "metadata": {
        "id": "Atf8PPJtB-0E"
      },
      "outputs": [],
      "source": [
        "'''\n",
        "(5) Help the teller of Lakshmi Silks to calculate the net discount offered in Seasonal\n",
        "Shopping for a customer based on the following criteria\n",
        "Sarees 20%\n",
        "Ethnic Wears 15%\n",
        "Gents Wears 15%\n",
        "Kids Wears 15%\n",
        "net bill amount > 6,000 Extra 5 percent\n",
        "'''\n",
        "def calculate_discount(bill_amount, item_category):\n",
        "    discount_percentage = 0\n",
        "    if item_category.lower() == 'sarees':\n",
        "        discount_percentage = 0.2\n",
        "    elif item_category.lower() == 'ethnic wears' or item_category.lower() == 'gents wears' or item_category.lower() == 'kids wears':\n",
        "        discount_percentage = 0.15\n",
        "    if bill_amount > 6000:\n",
        "        discount_percentage += 0.05\n",
        "    net_discount = bill_amount * discount_percentage\n",
        "    return net_discount\n",
        "bill_amount = float(input(\"Enter bill amount: \"))\n",
        "item_category = input(\"Enter item category: \")\n",
        "net_discount = calculate_discount(bill_amount, item_category)\n",
        "print(\"Net discount: \", net_discount)"
      ]
    },
    {
      "cell_type": "code",
      "execution_count": null,
      "metadata": {
        "id": "dRatwfJ0CLXV"
      },
      "outputs": [],
      "source": [
        "'''\n",
        "(6) Program that displays the last digit of a user input number, and also finds out whether\n",
        "the last digit is divisible by 5.\n",
        "'''\n",
        "def get_last_digit(number):\n",
        "    last_digit = number % 10\n",
        "    return last_digit\n",
        "def is_divisible_by_5(number):\n",
        "    return number % 5 == 0\n",
        "user_input = int(input(\"Enter a number: \"))\n",
        "last_digit = get_last_digit(user_input)\n",
        "print(\"Last digit: \", last_digit)\n",
        "if is_divisible_by_5(last_digit):\n",
        "    print(\"Last digit is divisible by 5\")\n",
        "else:\n",
        "    print(\"Last digit is not divisible by 5\")"
      ]
    },
    {
      "cell_type": "code",
      "execution_count": null,
      "metadata": {
        "id": "bFQYQSPuCW1k"
      },
      "outputs": [],
      "source": [
        "'''\n",
        "(7) Program that accepts the On Road Price of a bike and displays the Road Tax to be\n",
        "levied on it, based on the following guidelines\n",
        ">2,00,000 20%\n",
        "1,00,00-1,99,000 15%\n",
        "<1,00,00 10%\n",
        "'''\n",
        "def calculate_road_tax(price):\n",
        "    if price >= 200000:\n",
        "        tax_percentage = 0.20\n",
        "    elif price < 200000 and price>=100000:\n",
        "        tax_percentage = 0.15\n",
        "    else:\n",
        "        tax_percentage = 0.10\n",
        "    road_tax = price * tax_percentage\n",
        "    return road_tax\n",
        "on_road_price = float(input(\"Enter the On Road Price of the bike: \"))\n",
        "road_tax = calculate_road_tax(on_road_price)\n",
        "print(\"Road Tax: \", road_tax)"
      ]
    },
    {
      "cell_type": "code",
      "execution_count": null,
      "metadata": {
        "id": "yzQJ6yjuCtpy"
      },
      "outputs": [],
      "source": [
        "'''\n",
        "(8) Program that finds whether a user given value is divisible by 3, 4 and both.\n",
        "'''\n",
        "def check_divisibility(value):\n",
        "    divisible_by_3 = value % 3 == 0\n",
        "    divisible_by_4 = value % 4 == 0\n",
        "    if divisible_by_3 and divisible_by_4:\n",
        "        return \"Divisible by both 3 and 4\"\n",
        "    elif divisible_by_3:\n",
        "        return \"Divisible by 3\"\n",
        "    elif divisible_by_4:\n",
        "        return \"Divisible by 4\"\n",
        "    else:\n",
        "        return \"Not divisible by either 3 or 4\"\n",
        "user_input = int(input(\"Enter a value: \"))\n",
        "result = check_divisibility(user_input)\n",
        "print(result)"
      ]
    },
    {
      "attachments": {},
      "cell_type": "markdown",
      "metadata": {
        "id": "BvOBRWhmDhb2"
      },
      "source": [
        "SET FUNCTIONS"
      ]
    },
    {
      "cell_type": "code",
      "execution_count": null,
      "metadata": {
        "id": "LJGx1AqCDjA5"
      },
      "outputs": [],
      "source": [
        "'''\n",
        "(1) add()\n",
        "'''\n",
        "my_set = {1, 2, 3}\n",
        "my_set.add(4)\n",
        "print(my_set)"
      ]
    },
    {
      "cell_type": "code",
      "execution_count": null,
      "metadata": {
        "id": "B1dOoW5CDsD0"
      },
      "outputs": [],
      "source": [
        "'''\n",
        "(2) remove()\n",
        "'''\n",
        "my_set = {1, 2, 3, 4}\n",
        "my_set.remove(3)\n",
        "print(my_set)"
      ]
    },
    {
      "cell_type": "code",
      "execution_count": null,
      "metadata": {
        "id": "iieijzrqD3IG"
      },
      "outputs": [],
      "source": [
        "'''\n",
        "(3) discard()\n",
        "'''\n",
        "my_set = {1, 2, 3, 4}\n",
        "my_set.discard(3)\n",
        "print(my_set)"
      ]
    },
    {
      "cell_type": "code",
      "execution_count": null,
      "metadata": {
        "id": "4rzuciCZD8dc"
      },
      "outputs": [],
      "source": [
        "'''\n",
        "(4) pop()\n",
        "'''\n",
        "my_set = {1, 2, 3, 4}\n",
        "popped_element = my_set.pop()\n",
        "print(popped_element)\n",
        "print(my_set)"
      ]
    },
    {
      "cell_type": "code",
      "execution_count": null,
      "metadata": {
        "id": "FIy8LObqEDcv"
      },
      "outputs": [],
      "source": [
        "'''\n",
        "(5) clear()\n",
        "'''\n",
        "my_set = {1, 2, 3, 4}\n",
        "my_set.clear()\n",
        "print(my_set)"
      ]
    },
    {
      "cell_type": "code",
      "execution_count": null,
      "metadata": {
        "id": "wo_5BVzTEIMW"
      },
      "outputs": [],
      "source": [
        "'''\n",
        "(6) union()\n",
        "'''\n",
        "set1 = {1, 2, 3}\n",
        "set2 = {3, 4, 5}\n",
        "union_set = set1.union(set2)\n",
        "print(union_set)"
      ]
    },
    {
      "cell_type": "code",
      "execution_count": null,
      "metadata": {
        "id": "dsVClTBMEMe1"
      },
      "outputs": [],
      "source": [
        "'''\n",
        "(7) intersection()\n",
        "'''\n",
        "set1 = {1, 2, 3}\n",
        "set2 = {3, 4, 5}\n",
        "intersection_set = set1.intersection(set2)\n",
        "print(intersection_set)"
      ]
    },
    {
      "cell_type": "code",
      "execution_count": null,
      "metadata": {
        "id": "-WHTbF5PEQ1k"
      },
      "outputs": [],
      "source": [
        "'''\n",
        "(8) difference()\n",
        "'''\n",
        "set1 = {1, 2, 3, 4}\n",
        "set2 = {3, 4, 5}\n",
        "difference_set = set1.difference(set2)\n",
        "print(difference_set)"
      ]
    },
    {
      "cell_type": "code",
      "execution_count": null,
      "metadata": {
        "id": "eA8J-Hn4EWG6"
      },
      "outputs": [],
      "source": [
        "'''\n",
        "(9) symmetric_difference()\n",
        "'''\n",
        "set1 = {1, 2, 3}\n",
        "set2 = {3, 4, 5}\n",
        "symmetric_difference_set = set1.symmetric_difference(set2)\n",
        "print(symmetric_difference_set)"
      ]
    },
    {
      "cell_type": "code",
      "execution_count": null,
      "metadata": {
        "id": "j9EojO3QEcY_"
      },
      "outputs": [],
      "source": [
        "'''\n",
        "(10) issubset()\n",
        "'''\n",
        "set1 = {1, 2}\n",
        "set2 = {1, 2, 3, 4}\n",
        "is_subset = set1.issubset(set2)\n",
        "print(is_subset)"
      ]
    },
    {
      "attachments": {},
      "cell_type": "markdown",
      "metadata": {
        "id": "C2WLrrE2Ejze"
      },
      "source": [
        "NUMPY FUNCTIONS"
      ]
    },
    {
      "cell_type": "code",
      "execution_count": 4,
      "metadata": {
        "id": "BZkoVhnmE5R0"
      },
      "outputs": [
        {
          "name": "stdout",
          "output_type": "stream",
          "text": [
            "[1 2 3 4 5]\n"
          ]
        }
      ],
      "source": [
        "'''\n",
        "(1) array()\n",
        "'''\n",
        "import numpy as np\n",
        "arr = np.array([1, 2, 3, 4, 5])\n",
        "print(arr)"
      ]
    },
    {
      "cell_type": "code",
      "execution_count": 5,
      "metadata": {
        "id": "D978dF05E5a2"
      },
      "outputs": [
        {
          "name": "stdout",
          "output_type": "stream",
          "text": [
            "(2, 3)\n"
          ]
        }
      ],
      "source": [
        "'''\n",
        "(2) shape()\n",
        "'''\n",
        "import numpy as np\n",
        "arr = np.array([[1, 2, 3], [4, 5, 6]])\n",
        "print(arr.shape)"
      ]
    },
    {
      "cell_type": "code",
      "execution_count": null,
      "metadata": {
        "id": "qVbqqPoyE5kw"
      },
      "outputs": [],
      "source": [
        "'''\n",
        "(3) reshape()\n",
        "'''\n",
        "import numpy as np\n",
        "arr = np.array([1, 2, 3, 4, 5, 6])\n",
        "reshaped_arr = np.reshape(arr, (2, 3))\n",
        "print(reshaped_arr)"
      ]
    },
    {
      "cell_type": "code",
      "execution_count": null,
      "metadata": {
        "id": "-Vl1WKaCE5sq"
      },
      "outputs": [],
      "source": [
        "'''\n",
        "(4) ndim()\n",
        "'''\n",
        "import numpy as np\n",
        "arr = np.array([[1, 2, 3], [4, 5, 6]])\n",
        "print(arr.ndim)"
      ]
    },
    {
      "cell_type": "code",
      "execution_count": null,
      "metadata": {
        "id": "q13HcGopE50s"
      },
      "outputs": [],
      "source": [
        "'''\n",
        "(5) size()\n",
        "'''\n",
        "import numpy as np\n",
        "arr = np.array([[1, 2, 3], [4, 5, 6]])\n",
        "print(arr.size)"
      ]
    },
    {
      "cell_type": "code",
      "execution_count": null,
      "metadata": {
        "id": "1hRpTVJcE54A"
      },
      "outputs": [],
      "source": [
        "'''\n",
        "(6) max()\n",
        "'''\n",
        "import numpy as np\n",
        "arr = np.array([1, 2, 3, 4, 5])\n",
        "print(np.max(arr))"
      ]
    },
    {
      "cell_type": "code",
      "execution_count": null,
      "metadata": {
        "id": "LQ-XXN2fE58l"
      },
      "outputs": [],
      "source": [
        "'''\n",
        "(7) min()\n",
        "'''\n",
        "import numpy as np\n",
        "arr = np.array([1, 2, 3, 4, 5])\n",
        "print(np.min(arr))"
      ]
    },
    {
      "cell_type": "code",
      "execution_count": 3,
      "metadata": {
        "id": "WdiUcKZtE5_V"
      },
      "outputs": [
        {
          "name": "stdout",
          "output_type": "stream",
          "text": [
            "3.0\n"
          ]
        }
      ],
      "source": [
        "'''\n",
        "(8) mean()\n",
        "'''\n",
        "import numpy as np\n",
        "arr = np.array([1, 2, 3, 4, 5])\n",
        "print(np.mean(arr))"
      ]
    },
    {
      "cell_type": "code",
      "execution_count": 2,
      "metadata": {
        "id": "JMPBXaApE6CC"
      },
      "outputs": [
        {
          "name": "stdout",
          "output_type": "stream",
          "text": [
            "15\n"
          ]
        }
      ],
      "source": [
        "'''\n",
        "(9) sum()\n",
        "'''\n",
        "import numpy as np\n",
        "arr = np.array([1, 2, 3, 4, 5])\n",
        "print(np.sum(arr))"
      ]
    },
    {
      "cell_type": "code",
      "execution_count": 1,
      "metadata": {
        "id": "Xw0QWesZE6E3"
      },
      "outputs": [
        {
          "name": "stdout",
          "output_type": "stream",
          "text": [
            "[1 2 3 4 5 6]\n"
          ]
        }
      ],
      "source": [
        "'''\n",
        "(10) concatenate()\n",
        "'''\n",
        "import numpy as np\n",
        "arr1 = np.array([1, 2, 3])\n",
        "arr2 = np.array([4, 5, 6])\n",
        "concatenated_arr = np.concatenate((arr1, arr2))\n",
        "print(concatenated_arr)"
      ]
    },
    {
      "cell_type": "code",
      "execution_count": 12,
      "metadata": {},
      "outputs": [
        {
          "name": "stdout",
          "output_type": "stream",
          "text": [
            "Exception occured: Invalid Age\n"
          ]
        }
      ],
      "source": [
        "#Exception Handling\n",
        "\n",
        "class InvalidAgeException(Exception):\n",
        "    \"Raised when input age is less than 0\"\n",
        "    pass\n",
        "\n",
        "try:\n",
        "    age = int(input(\"Enter age: \"))\n",
        "    \n",
        "    if(age < 0):\n",
        "        raise InvalidAgeException\n",
        "    else:\n",
        "        print(\"Eligible to vote\")\n",
        "except:\n",
        "    print(\"Exception occured: Invalid Age\")\n",
        "\n",
        "    "
      ]
    },
    {
      "cell_type": "code",
      "execution_count": null,
      "metadata": {},
      "outputs": [],
      "source": []
    }
  ],
  "metadata": {
    "colab": {
      "provenance": []
    },
    "kernelspec": {
      "display_name": "Python 3",
      "name": "python3"
    },
    "language_info": {
      "codemirror_mode": {
        "name": "ipython",
        "version": 3
      },
      "file_extension": ".py",
      "mimetype": "text/x-python",
      "name": "python",
      "nbconvert_exporter": "python",
      "pygments_lexer": "ipython3",
      "version": "3.10.5"
    }
  },
  "nbformat": 4,
  "nbformat_minor": 0
}
