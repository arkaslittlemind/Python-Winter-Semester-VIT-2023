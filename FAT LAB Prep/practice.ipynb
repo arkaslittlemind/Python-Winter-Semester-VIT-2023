{
 "cells": [
  {
   "attachments": {},
   "cell_type": "markdown",
   "metadata": {
    "collapsed": false
   },
   "source": [
    "Python LAB FAT Practice 12-06-2023"
   ]
  },
  {
   "attachments": {},
   "cell_type": "markdown",
   "metadata": {
    "collapsed": false
   },
   "source": [
    "Q1. An Internet service provider has three different subscription     packages for its customers:\n",
    "    Package A: for Rs.9.95/month, 10 hours of access are provided\n",
    "    Additional hours are Rs.2.00/hour.\n",
    "    Package B: for Rs. 14.95/month, 20 hours of access are provided.\n",
    "    Additional hours are Rs. 1.00/hour.\n",
    "    Package C: for Rs. 19.95/month, unlimited access is provided.\n",
    "    Write a program that calculates a customer’s monthly bill.\n",
    "    It should ask which package the customer has purchased and how many hours were used. It should then display the total amount due.\n",
    "    Input validation: be sure the user only selects package A, B, or C. Also, the number of\n",
    "    hours used in a month cannot exceed 744."
   ]
  },
  {
   "cell_type": "code",
   "execution_count": 3,
   "metadata": {
    "collapsed": false,
    "is_executing": true
   },
   "outputs": [
    {
     "name": "stdout",
     "output_type": "stream",
     "text": [
      "The total amount due is Rs.  9.95.\n"
     ]
    }
   ],
   "source": [
    "def calculate_bill(package_choice, hours_used):\n",
    "    if package_choice == 'A':\n",
    "        if hours_used <= 10:\n",
    "            total_amount = 9.95\n",
    "        else:\n",
    "            additional_hours = hours_used - 10\n",
    "            total_amount = 9.95 + (additional_hours * 2)\n",
    "    \n",
    "    elif package_choice == 'B':\n",
    "        if hours_used <= 20:\n",
    "            total_amount = 14.95\n",
    "        else:\n",
    "            additional_hours = hours_used - 20\n",
    "            total_amount = 14.95 + (additional_hours * 1)\n",
    "    \n",
    "    elif package_choice == 'C':\n",
    "        total_amount = 19.95\n",
    "    else:\n",
    "        return \"Invalid Package Selection\"\n",
    "    \n",
    "    if hours_used > 744:\n",
    "        return \"Number of hours used cannot exceed 744.\"\n",
    "    \n",
    "    return f\"The total amount due is Rs. {total_amount: .2f}.\"\n",
    "\n",
    "\n",
    "#Taking input from the user\n",
    "package_choice = input(\"Which package did you purchase? (A/B/C)\")\n",
    "hours_used = int(input(\"How many billable hours were used in a month? \"))\n",
    "\n",
    "# Calculating and displaying the bill \n",
    "print(calculate_bill(package_choice, hours_used))\n"
   ]
  },
  {
   "attachments": {},
   "cell_type": "markdown",
   "metadata": {},
   "source": [
    "Q2. Given a string containing digits from 2-9 inclusive, return all possible letter combinations\n",
    "that the number could represent. Return the answer in any order.\n",
    "A mapping of digits to letters (just like on the telephone buttons) is given below. Note that\n",
    "1 does not map to any letters. \n",
    "\n",
    "17. Letter Combinations of a Phone Number (https://leetcode.com/problems/letter-combinations-of-a-phone-number/)"
   ]
  },
  {
   "cell_type": "code",
   "execution_count": 5,
   "metadata": {},
   "outputs": [
    {
     "name": "stdout",
     "output_type": "stream",
     "text": [
      "['dgj', 'dgk', 'dgl', 'dhj', 'dhk', 'dhl', 'dij', 'dik', 'dil', 'egj', 'egk', 'egl', 'ehj', 'ehk', 'ehl', 'eij', 'eik', 'eil', 'fgj', 'fgk', 'fgl', 'fhj', 'fhk', 'fhl', 'fij', 'fik', 'fil']\n"
     ]
    }
   ],
   "source": [
    "def letterCombinations(digits):\n",
    "    digitToletters = {\n",
    "        '2': ['a', 'b', 'c'],\n",
    "        '3': ['d', 'e', 'f'],\n",
    "        '4': ['g', 'h', 'i'],\n",
    "        '5': ['j', 'k', 'l'],\n",
    "        '6': ['m', 'n', 'o'],\n",
    "        '7': ['p', 'q', 'r', 's'],\n",
    "        '8': ['t', 'u', 'v'],\n",
    "        '9': ['w', 'x', 'y', 'z'] \n",
    "    }\n",
    "    \n",
    "    def backtrack(combination, nextDigits):\n",
    "        if len(nextDigits) == 0:\n",
    "            output.append(combination)\n",
    "        else:\n",
    "            for letter in digitToletters[nextDigits[0]]:\n",
    "                backtrack(combination + letter, nextDigits[1:])\n",
    "    \n",
    "    if not digits:\n",
    "        return[]\n",
    "    \n",
    "    output = []\n",
    "    backtrack(\"\", digits)\n",
    "    return output\n",
    "\n",
    "#Example Usage\n",
    "digits = input(\"Enter a string of digits (2-9 inclusive): \")\n",
    "result = letterCombinations(digits)\n",
    "print(result)"
   ]
  },
  {
   "attachments": {},
   "cell_type": "markdown",
   "metadata": {},
   "source": [
    "Q3. Given an integer, convert it to a roman numeral. Input is guaranteed to be within the range\n",
    "from 1 to 3999."
   ]
  },
  {
   "cell_type": "code",
   "execution_count": null,
   "metadata": {},
   "outputs": [],
   "source": [
    "def intToRoman(num):\n",
    "    roman_mapping = {\n",
    "        1000: \"M\",\n",
    "        900: \"CM\",\n",
    "        500: \"D\",\n",
    "        400: \"CD\",\n",
    "        100: \"C\",\n",
    "        90: \"XC\",\n",
    "        50: \"L\",\n",
    "        40: \"XL\",\n",
    "        10: \"X\",\n",
    "        9: \"IX\",\n",
    "        5: \"V\",\n",
    "        4: \"IV\",\n",
    "        1: \"I\"\n",
    "    }\n",
    "    \n",
    "    roman_numeral = \"\"\n",
    "    \n",
    "    for value, symbol in roman_mapping.items():\n",
    "        while num >= value:\n",
    "            roman_numeral += symbol\n",
    "            num -= value\n",
    "    \n",
    "    return roman_numeral\n",
    "\n",
    "# Test cases\n",
    "input_num_1 = 9\n",
    "output_1 = intToRoman(input_num_1)\n",
    "print(output_1)  # Output: \"IX\"\n",
    "\n",
    "input_num_2 = 58\n",
    "output_2 = intToRoman(input_num_2)\n",
    "print(output_2)  # Output: \"LVIII\"\n"
   ]
  }
 ],
 "metadata": {
  "kernelspec": {
   "display_name": "Python 3",
   "language": "python",
   "name": "python3"
  },
  "language_info": {
   "codemirror_mode": {
    "name": "ipython",
    "version": 3
   },
   "file_extension": ".py",
   "mimetype": "text/x-python",
   "name": "python",
   "nbconvert_exporter": "python",
   "pygments_lexer": "ipython3",
   "version": "3.10.5"
  }
 },
 "nbformat": 4,
 "nbformat_minor": 0
}
