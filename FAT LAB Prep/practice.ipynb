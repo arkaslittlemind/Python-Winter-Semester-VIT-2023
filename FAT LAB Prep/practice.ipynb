{
 "cells": [
  {
   "attachments": {},
   "cell_type": "markdown",
   "metadata": {
    "collapsed": false
   },
   "source": [
    "Python LAB FAT Practice 12-06-2023"
   ]
  },
  {
   "attachments": {},
   "cell_type": "markdown",
   "metadata": {
    "collapsed": false
   },
   "source": [
    "Q1. An Internet service provider has three different subscription     packages for its customers:\n",
    "    Package A: for Rs.9.95/month, 10 hours of access are provided\n",
    "    Additional hours are Rs.2.00/hour.\n",
    "    Package B: for Rs. 14.95/month, 20 hours of access are provided.\n",
    "    Additional hours are Rs. 1.00/hour.\n",
    "    Package C: for Rs. 19.95/month, unlimited access is provided.\n",
    "    Write a program that calculates a customer’s monthly bill.\n",
    "    It should ask which package the customer has purchased and how many hours were used. It should then display the total amount due.\n",
    "    Input validation: be sure the user only selects package A, B, or C. Also, the number of\n",
    "    hours used in a month cannot exceed 744."
   ]
  },
  {
   "cell_type": "code",
   "execution_count": 1,
   "metadata": {
    "collapsed": false,
    "is_executing": true
   },
   "outputs": [
    {
     "name": "stdout",
     "output_type": "stream",
     "text": [
      "Hello\n"
     ]
    }
   ],
   "source": [
    "def calculate_bill(package_choice, hours_used)\n",
    "    if package_choice == 'A':\n",
    "        if hours_used <= 10:\n",
    "            total_amount = 9.95\n",
    "        else:\n",
    "            additional_hours = hours_used - 10\n",
    "            total_amount = 9.95 + (additional_hours * 2)\n",
    "    \n",
    "    elif package_choice == 'B':\n",
    "        if hours_used <= 20:\n",
    "            total_amount = 14.95\n",
    "        else:\n",
    "            additional_hours = hours_used - 20\n",
    "            total_amount = 14.95 + (additional_hours * 1)\n",
    "    \n",
    "    elif package_choice == 'C':\n",
    "        total_amount = 19.95\n",
    "    else:\n",
    "        return \"Invalid Package Selection\"\n",
    "    \n",
    "    if hours_used > 744:\n",
    "        return \"Number of hours used cannot exceed 744.\"\n",
    "    \n",
    "    return f\"The total amount due is Rs. {total_amount: .2f}.\"\n",
    "\n",
    "\n",
    "\n",
    "\n",
    "\n",
    "#Taking input from the user\n",
    "package_choice = input(\"Which package did you purchase? (A/B/C)\")\n",
    "hours_used = int(input(\"How many billable hours were used in a month? \"))\n",
    "\n",
    "# Calculating and displaying the bill \n",
    "print(calculate_bill(package_choice, hours_used))\n"
   ]
  },
  {
   "cell_type": "code",
   "execution_count": null,
   "metadata": {
    "collapsed": false,
    "is_executing": true
   },
   "outputs": [],
   "source": []
  },
  {
   "cell_type": "code",
   "execution_count": null,
   "metadata": {
    "collapsed": false
   },
   "outputs": [],
   "source": []
  }
 ],
 "metadata": {
  "kernelspec": {
   "display_name": "Python 3",
   "language": "python",
   "name": "python3"
  },
  "language_info": {
   "codemirror_mode": {
    "name": "ipython",
    "version": 3
   },
   "file_extension": ".py",
   "mimetype": "text/x-python",
   "name": "python",
   "nbconvert_exporter": "python",
   "pygments_lexer": "ipython3",
   "version": "3.10.5"
  }
 },
 "nbformat": 4,
 "nbformat_minor": 0
}
