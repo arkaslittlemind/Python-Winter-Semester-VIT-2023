{
 "cells": [
  {
   "cell_type": "markdown",
   "source": [
    "Python LAB FAT Practice 12-06-2023"
   ],
   "metadata": {
    "collapsed": false
   }
  },
  {
   "cell_type": "markdown",
   "source": [
    "Q1. An Internet service provider has three different subscription     packages for its customers:\n",
    "    Package A: for Rs.9.95/month, 10 hours of access are provided\n",
    "    Additional hours are Rs.2.00/hour.\n",
    "    Package B: for Rs. 14.95/month, 20 hours of access are provided.\n",
    "    Additional hours are Rs. 1.00/hour.\n",
    "    Package C: for Rs. 19.95/month, unlimited access is provided.\n",
    "    Write a program that calculates a customer’s monthly bill.\n",
    "    It should ask which package the customer has purchased and how many hours were used. It should then display the total amount due.\n",
    "    Input validation: be sure the user only selects package A, B, or C. Also, the number of\n",
    "    hours used in a month cannot exceed 744."
   ],
   "metadata": {
    "collapsed": false
   }
  },
  {
   "cell_type": "code",
   "execution_count": null,
   "outputs": [],
   "source": [
    "#Taking input from the user\n",
    "\n",
    "package_choice = input(\"Which package did you purchase? (A/B/C)\")\n",
    "hours_used = int(input(\"How many billable hours were used in a month? \"))\n",
    "\n",
    "print(\"Hello\")"
   ],
   "metadata": {
    "collapsed": false,
    "is_executing": true
   }
  },
  {
   "cell_type": "code",
   "execution_count": null,
   "outputs": [],
   "source": [],
   "metadata": {
    "collapsed": false,
    "is_executing": true
   }
  },
  {
   "cell_type": "code",
   "execution_count": null,
   "outputs": [],
   "source": [],
   "metadata": {
    "collapsed": false
   }
  }
 ],
 "metadata": {
  "kernelspec": {
   "display_name": "Python 3",
   "language": "python",
   "name": "python3"
  },
  "language_info": {
   "codemirror_mode": {
    "name": "ipython",
    "version": 2
   },
   "file_extension": ".py",
   "mimetype": "text/x-python",
   "name": "python",
   "nbconvert_exporter": "python",
   "pygments_lexer": "ipython2",
   "version": "2.7.6"
  }
 },
 "nbformat": 4,
 "nbformat_minor": 0
}
