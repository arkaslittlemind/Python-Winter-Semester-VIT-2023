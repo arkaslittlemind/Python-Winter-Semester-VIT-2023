{
 "cells": [
  {
   "cell_type": "code",
   "execution_count": 7,
   "metadata": {},
   "outputs": [
    {
     "name": "stdout",
     "output_type": "stream",
     "text": [
      "5\n",
      "1\n"
     ]
    }
   ],
   "source": [
    "def withoutFinally():\n",
    "    \n",
    "    try:\n",
    "        l = [1, 5, 6, 7]\n",
    "        i = int(input(\"Enter the index: \"))\n",
    "        print(l[i])\n",
    "        return 1\n",
    "    \n",
    "    except IndexError:\n",
    "        print(\"Index out of range\")\n",
    "        return 0\n",
    "    \n",
    "    \n",
    "    print(\"Finally block is always executed\")\n",
    "    \n",
    "    \n",
    "        \n",
    "x = withoutFinally()\n",
    "print(x)"
   ]
  },
  {
   "cell_type": "code",
   "execution_count": 12,
   "metadata": {},
   "outputs": [
    {
     "name": "stdout",
     "output_type": "stream",
     "text": [
      "5\n",
      "Finally block is always executed\n",
      "1\n"
     ]
    }
   ],
   "source": [
    "def withFinally():\n",
    "    \n",
    "    try:\n",
    "        l = [1, 5, 6, 7]\n",
    "        i = int(input(\"Enter the index: \"))\n",
    "        print(l[i])\n",
    "        return 1\n",
    "    \n",
    "    except IndexError:\n",
    "        print(\"Index out of range\")\n",
    "        return 0\n",
    "    \n",
    "    finally:\n",
    "        print(\"Finally block is always executed\")\n",
    "        \n",
    "    \n",
    "x = withFinally()\n",
    "print(x)"
   ]
  }
 ],
 "metadata": {
  "kernelspec": {
   "display_name": "Python 3",
   "language": "python",
   "name": "python3"
  },
  "language_info": {
   "codemirror_mode": {
    "name": "ipython",
    "version": 3
   },
   "file_extension": ".py",
   "mimetype": "text/x-python",
   "name": "python",
   "nbconvert_exporter": "python",
   "pygments_lexer": "ipython3",
   "version": "3.9.13"
  },
  "orig_nbformat": 4
 },
 "nbformat": 4,
 "nbformat_minor": 2
}
